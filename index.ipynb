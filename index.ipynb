{
 "cells": [
  {
   "cell_type": "markdown",
   "metadata": {},
   "source": [
    "# Project - EDA with Pandas Using the Boston Housing Data\n",
    "\n",
    "## Introduction\n",
    "\n",
    "In this section, you've learned a lot about importing, cleaning up, analyzing (using descriptive statistics) and visualizing data. In this more free-form project, you'll get a chance to practice all of these skills with the Boston Housing dataset, which contains housing values in the suburbs of Boston. The Boston housing data is commonly used by aspiring Data Scientists.\n",
    "\n",
    "## Objectives\n",
    "\n",
    "You will be able to:\n",
    "\n",
    "* Perform a full exploratory data analysis process to gain insight about a dataset \n",
    "\n",
    "## Goals\n",
    "\n",
    "Use your data munging and visualization skills to conduct an exploratory analysis of the dataset below. At a minimum, this should include:\n",
    "\n",
    "* Loading the data (which is stored in the file `'train.csv'`) \n",
    "* Use built-in Python functions to explore measures of centrality and dispersion for at least 3 variables\n",
    "* Create *meaningful* subsets of the data using selection operations like `.loc`, `.iloc`, or related operations.   Explain why you used the chosen subsets and do this for three possible 2-way splits. State how you think the two measures of centrality and/or dispersion might be different for each subset of the data. Examples of potential splits:\n",
    "    - Create two new DataFrames based on your existing data, where one contains all the properties next to the Charles river, and the other one contains properties that aren't \n",
    "    - Create two new DataFrames based on a certain split for crime rate \n",
    "* Next, use histograms and scatter plots to see whether you observe differences for the subsets of the data. Make sure to use subplots so it is easy to compare the relationships.\n",
    "\n",
    "## Variable Descriptions\n",
    "\n",
    "This DataFrame contains the following columns:\n",
    "\n",
    "- `crim`: per capita crime rate by town  \n",
    "- `zn`: proportion of residential land zoned for lots over 25,000 sq.ft  \n",
    "- `indus`: proportion of non-retail business acres per town   \n",
    "- `chas`: Charles River dummy variable (= 1 if tract bounds river; 0 otherwise)  \n",
    "- `nox`: nitrogen oxide concentration (parts per 10 million)   \n",
    "- `rm`: average number of rooms per dwelling   \n",
    "- `age`: proportion of owner-occupied units built prior to 1940  \n",
    "- `dis`: weighted mean of distances to five Boston employment centers   \n",
    "- `rad`: index of accessibility to radial highways   \n",
    "- `tax`: full-value property-tax rate per \\$10,000   \n",
    "- `ptratio`: pupil-teacher ratio by town    \n",
    "- `b`: 1000(Bk - 0.63)^2 where Bk is the proportion of African American individuals by town   \n",
    "- `lstat`: lower status of the population (percent)   \n",
    "- `medv`: median value of owner-occupied homes in $10000s \n",
    "  \n",
    "    \n",
    "**Source**\n",
    "- Harrison, D. and Rubinfeld, D.L. (1978) Hedonic prices and the demand for clean air. J. Environ. Economics and Management 5, 81–102.\n",
    "\n",
    "- Belsley D.A., Kuh, E. and Welsch, R.E. (1980) Regression Diagnostics. Identifying Influential Data and Sources of Collinearity. New York: Wiley.\n",
    "\n",
    "**Important**: We mentioned in our data ethics lesson earlier that data can include offensive or inappropriate language at times. This is already becoming very apparent in the Boston Data, which includes a racial variable. \n",
    "Note that the Boston Housing data was constructed in the 1970’s, and is based on US census Data. On census.gov, you can read the following note:\n",
    "> \"Census statistics date back to 1790 and reflect the growth and change of the United States. Past census reports contain some terms that today's readers may consider obsolete and inappropriate. As part of our goal to be open and transparent with the public, we are improving access to all Census Bureau original publications and statistics, which serve as a guide to the nation's history.\"\n",
    "\n",
    "With that note, it is important to absolutely handle with care, and it is strongly adviced to _not_ use the racial variable when creating a predictive model.\n"
   ]
  },
  {
   "cell_type": "markdown",
   "metadata": {},
   "source": [
    "## Summary\n",
    "\n",
    "Congratulations, you've completed your first \"free form\" exploratory data analysis of a popular dataset!"
   ]
  },
  {
   "cell_type": "code",
   "execution_count": 2,
   "metadata": {},
   "outputs": [
    {
     "data": {
      "text/html": [
       "<div>\n",
       "<style scoped>\n",
       "    .dataframe tbody tr th:only-of-type {\n",
       "        vertical-align: middle;\n",
       "    }\n",
       "\n",
       "    .dataframe tbody tr th {\n",
       "        vertical-align: top;\n",
       "    }\n",
       "\n",
       "    .dataframe thead th {\n",
       "        text-align: right;\n",
       "    }\n",
       "</style>\n",
       "<table border=\"1\" class=\"dataframe\">\n",
       "  <thead>\n",
       "    <tr style=\"text-align: right;\">\n",
       "      <th></th>\n",
       "      <th>ID</th>\n",
       "      <th>crim</th>\n",
       "      <th>zn</th>\n",
       "      <th>indus</th>\n",
       "      <th>chas</th>\n",
       "      <th>nox</th>\n",
       "      <th>rm</th>\n",
       "      <th>age</th>\n",
       "      <th>dis</th>\n",
       "      <th>rad</th>\n",
       "      <th>tax</th>\n",
       "      <th>ptratio</th>\n",
       "      <th>b</th>\n",
       "      <th>lstat</th>\n",
       "      <th>medv</th>\n",
       "    </tr>\n",
       "  </thead>\n",
       "  <tbody>\n",
       "    <tr>\n",
       "      <td>0</td>\n",
       "      <td>1</td>\n",
       "      <td>0.00632</td>\n",
       "      <td>18.0</td>\n",
       "      <td>2.31</td>\n",
       "      <td>0</td>\n",
       "      <td>0.538</td>\n",
       "      <td>6.575</td>\n",
       "      <td>65.2</td>\n",
       "      <td>4.0900</td>\n",
       "      <td>1</td>\n",
       "      <td>296</td>\n",
       "      <td>15.3</td>\n",
       "      <td>396.90</td>\n",
       "      <td>4.98</td>\n",
       "      <td>24.0</td>\n",
       "    </tr>\n",
       "    <tr>\n",
       "      <td>1</td>\n",
       "      <td>2</td>\n",
       "      <td>0.02731</td>\n",
       "      <td>0.0</td>\n",
       "      <td>7.07</td>\n",
       "      <td>0</td>\n",
       "      <td>0.469</td>\n",
       "      <td>6.421</td>\n",
       "      <td>78.9</td>\n",
       "      <td>4.9671</td>\n",
       "      <td>2</td>\n",
       "      <td>242</td>\n",
       "      <td>17.8</td>\n",
       "      <td>396.90</td>\n",
       "      <td>9.14</td>\n",
       "      <td>21.6</td>\n",
       "    </tr>\n",
       "    <tr>\n",
       "      <td>2</td>\n",
       "      <td>4</td>\n",
       "      <td>0.03237</td>\n",
       "      <td>0.0</td>\n",
       "      <td>2.18</td>\n",
       "      <td>0</td>\n",
       "      <td>0.458</td>\n",
       "      <td>6.998</td>\n",
       "      <td>45.8</td>\n",
       "      <td>6.0622</td>\n",
       "      <td>3</td>\n",
       "      <td>222</td>\n",
       "      <td>18.7</td>\n",
       "      <td>394.63</td>\n",
       "      <td>2.94</td>\n",
       "      <td>33.4</td>\n",
       "    </tr>\n",
       "    <tr>\n",
       "      <td>3</td>\n",
       "      <td>5</td>\n",
       "      <td>0.06905</td>\n",
       "      <td>0.0</td>\n",
       "      <td>2.18</td>\n",
       "      <td>0</td>\n",
       "      <td>0.458</td>\n",
       "      <td>7.147</td>\n",
       "      <td>54.2</td>\n",
       "      <td>6.0622</td>\n",
       "      <td>3</td>\n",
       "      <td>222</td>\n",
       "      <td>18.7</td>\n",
       "      <td>396.90</td>\n",
       "      <td>5.33</td>\n",
       "      <td>36.2</td>\n",
       "    </tr>\n",
       "    <tr>\n",
       "      <td>4</td>\n",
       "      <td>7</td>\n",
       "      <td>0.08829</td>\n",
       "      <td>12.5</td>\n",
       "      <td>7.87</td>\n",
       "      <td>0</td>\n",
       "      <td>0.524</td>\n",
       "      <td>6.012</td>\n",
       "      <td>66.6</td>\n",
       "      <td>5.5605</td>\n",
       "      <td>5</td>\n",
       "      <td>311</td>\n",
       "      <td>15.2</td>\n",
       "      <td>395.60</td>\n",
       "      <td>12.43</td>\n",
       "      <td>22.9</td>\n",
       "    </tr>\n",
       "  </tbody>\n",
       "</table>\n",
       "</div>"
      ],
      "text/plain": [
       "   ID     crim    zn  indus  chas    nox     rm   age     dis  rad  tax  \\\n",
       "0   1  0.00632  18.0   2.31     0  0.538  6.575  65.2  4.0900    1  296   \n",
       "1   2  0.02731   0.0   7.07     0  0.469  6.421  78.9  4.9671    2  242   \n",
       "2   4  0.03237   0.0   2.18     0  0.458  6.998  45.8  6.0622    3  222   \n",
       "3   5  0.06905   0.0   2.18     0  0.458  7.147  54.2  6.0622    3  222   \n",
       "4   7  0.08829  12.5   7.87     0  0.524  6.012  66.6  5.5605    5  311   \n",
       "\n",
       "   ptratio       b  lstat  medv  \n",
       "0     15.3  396.90   4.98  24.0  \n",
       "1     17.8  396.90   9.14  21.6  \n",
       "2     18.7  394.63   2.94  33.4  \n",
       "3     18.7  396.90   5.33  36.2  \n",
       "4     15.2  395.60  12.43  22.9  "
      ]
     },
     "execution_count": 2,
     "metadata": {},
     "output_type": "execute_result"
    }
   ],
   "source": [
    "#import pandas\n",
    "import pandas as pd\n",
    "\n",
    "#load dataset\n",
    "df = pd.read_csv('train.csv')\n",
    "df.head()"
   ]
  },
  {
   "cell_type": "code",
   "execution_count": 3,
   "metadata": {},
   "outputs": [
    {
     "name": "stdout",
     "output_type": "stream",
     "text": [
      "<class 'pandas.core.frame.DataFrame'>\n",
      "RangeIndex: 333 entries, 0 to 332\n",
      "Data columns (total 15 columns):\n",
      "ID         333 non-null int64\n",
      "crim       333 non-null float64\n",
      "zn         333 non-null float64\n",
      "indus      333 non-null float64\n",
      "chas       333 non-null int64\n",
      "nox        333 non-null float64\n",
      "rm         333 non-null float64\n",
      "age        333 non-null float64\n",
      "dis        333 non-null float64\n",
      "rad        333 non-null int64\n",
      "tax        333 non-null int64\n",
      "ptratio    333 non-null float64\n",
      "b          333 non-null float64\n",
      "lstat      333 non-null float64\n",
      "medv       333 non-null float64\n",
      "dtypes: float64(11), int64(4)\n",
      "memory usage: 39.1 KB\n"
     ]
    }
   ],
   "source": [
    "df.info()"
   ]
  },
  {
   "cell_type": "code",
   "execution_count": 4,
   "metadata": {},
   "outputs": [
    {
     "data": {
      "text/html": [
       "<div>\n",
       "<style scoped>\n",
       "    .dataframe tbody tr th:only-of-type {\n",
       "        vertical-align: middle;\n",
       "    }\n",
       "\n",
       "    .dataframe tbody tr th {\n",
       "        vertical-align: top;\n",
       "    }\n",
       "\n",
       "    .dataframe thead th {\n",
       "        text-align: right;\n",
       "    }\n",
       "</style>\n",
       "<table border=\"1\" class=\"dataframe\">\n",
       "  <thead>\n",
       "    <tr style=\"text-align: right;\">\n",
       "      <th></th>\n",
       "      <th>ID</th>\n",
       "      <th>crim</th>\n",
       "      <th>zn</th>\n",
       "      <th>indus</th>\n",
       "      <th>chas</th>\n",
       "      <th>nox</th>\n",
       "      <th>rm</th>\n",
       "      <th>age</th>\n",
       "      <th>dis</th>\n",
       "      <th>rad</th>\n",
       "      <th>tax</th>\n",
       "      <th>ptratio</th>\n",
       "      <th>b</th>\n",
       "      <th>lstat</th>\n",
       "      <th>medv</th>\n",
       "    </tr>\n",
       "  </thead>\n",
       "  <tbody>\n",
       "    <tr>\n",
       "      <td>count</td>\n",
       "      <td>333.000000</td>\n",
       "      <td>333.000000</td>\n",
       "      <td>333.000000</td>\n",
       "      <td>333.000000</td>\n",
       "      <td>333.000000</td>\n",
       "      <td>333.000000</td>\n",
       "      <td>333.000000</td>\n",
       "      <td>333.000000</td>\n",
       "      <td>333.000000</td>\n",
       "      <td>333.000000</td>\n",
       "      <td>333.000000</td>\n",
       "      <td>333.000000</td>\n",
       "      <td>333.000000</td>\n",
       "      <td>333.000000</td>\n",
       "      <td>333.000000</td>\n",
       "    </tr>\n",
       "    <tr>\n",
       "      <td>mean</td>\n",
       "      <td>250.951952</td>\n",
       "      <td>3.360341</td>\n",
       "      <td>10.689189</td>\n",
       "      <td>11.293483</td>\n",
       "      <td>0.060060</td>\n",
       "      <td>0.557144</td>\n",
       "      <td>6.265619</td>\n",
       "      <td>68.226426</td>\n",
       "      <td>3.709934</td>\n",
       "      <td>9.633634</td>\n",
       "      <td>409.279279</td>\n",
       "      <td>18.448048</td>\n",
       "      <td>359.466096</td>\n",
       "      <td>12.515435</td>\n",
       "      <td>22.768769</td>\n",
       "    </tr>\n",
       "    <tr>\n",
       "      <td>std</td>\n",
       "      <td>147.859438</td>\n",
       "      <td>7.352272</td>\n",
       "      <td>22.674762</td>\n",
       "      <td>6.998123</td>\n",
       "      <td>0.237956</td>\n",
       "      <td>0.114955</td>\n",
       "      <td>0.703952</td>\n",
       "      <td>28.133344</td>\n",
       "      <td>1.981123</td>\n",
       "      <td>8.742174</td>\n",
       "      <td>170.841988</td>\n",
       "      <td>2.151821</td>\n",
       "      <td>86.584567</td>\n",
       "      <td>7.067781</td>\n",
       "      <td>9.173468</td>\n",
       "    </tr>\n",
       "    <tr>\n",
       "      <td>min</td>\n",
       "      <td>1.000000</td>\n",
       "      <td>0.006320</td>\n",
       "      <td>0.000000</td>\n",
       "      <td>0.740000</td>\n",
       "      <td>0.000000</td>\n",
       "      <td>0.385000</td>\n",
       "      <td>3.561000</td>\n",
       "      <td>6.000000</td>\n",
       "      <td>1.129600</td>\n",
       "      <td>1.000000</td>\n",
       "      <td>188.000000</td>\n",
       "      <td>12.600000</td>\n",
       "      <td>3.500000</td>\n",
       "      <td>1.730000</td>\n",
       "      <td>5.000000</td>\n",
       "    </tr>\n",
       "    <tr>\n",
       "      <td>25%</td>\n",
       "      <td>123.000000</td>\n",
       "      <td>0.078960</td>\n",
       "      <td>0.000000</td>\n",
       "      <td>5.130000</td>\n",
       "      <td>0.000000</td>\n",
       "      <td>0.453000</td>\n",
       "      <td>5.884000</td>\n",
       "      <td>45.400000</td>\n",
       "      <td>2.122400</td>\n",
       "      <td>4.000000</td>\n",
       "      <td>279.000000</td>\n",
       "      <td>17.400000</td>\n",
       "      <td>376.730000</td>\n",
       "      <td>7.180000</td>\n",
       "      <td>17.400000</td>\n",
       "    </tr>\n",
       "    <tr>\n",
       "      <td>50%</td>\n",
       "      <td>244.000000</td>\n",
       "      <td>0.261690</td>\n",
       "      <td>0.000000</td>\n",
       "      <td>9.900000</td>\n",
       "      <td>0.000000</td>\n",
       "      <td>0.538000</td>\n",
       "      <td>6.202000</td>\n",
       "      <td>76.700000</td>\n",
       "      <td>3.092300</td>\n",
       "      <td>5.000000</td>\n",
       "      <td>330.000000</td>\n",
       "      <td>19.000000</td>\n",
       "      <td>392.050000</td>\n",
       "      <td>10.970000</td>\n",
       "      <td>21.600000</td>\n",
       "    </tr>\n",
       "    <tr>\n",
       "      <td>75%</td>\n",
       "      <td>377.000000</td>\n",
       "      <td>3.678220</td>\n",
       "      <td>12.500000</td>\n",
       "      <td>18.100000</td>\n",
       "      <td>0.000000</td>\n",
       "      <td>0.631000</td>\n",
       "      <td>6.595000</td>\n",
       "      <td>93.800000</td>\n",
       "      <td>5.116700</td>\n",
       "      <td>24.000000</td>\n",
       "      <td>666.000000</td>\n",
       "      <td>20.200000</td>\n",
       "      <td>396.240000</td>\n",
       "      <td>16.420000</td>\n",
       "      <td>25.000000</td>\n",
       "    </tr>\n",
       "    <tr>\n",
       "      <td>max</td>\n",
       "      <td>506.000000</td>\n",
       "      <td>73.534100</td>\n",
       "      <td>100.000000</td>\n",
       "      <td>27.740000</td>\n",
       "      <td>1.000000</td>\n",
       "      <td>0.871000</td>\n",
       "      <td>8.725000</td>\n",
       "      <td>100.000000</td>\n",
       "      <td>10.710300</td>\n",
       "      <td>24.000000</td>\n",
       "      <td>711.000000</td>\n",
       "      <td>21.200000</td>\n",
       "      <td>396.900000</td>\n",
       "      <td>37.970000</td>\n",
       "      <td>50.000000</td>\n",
       "    </tr>\n",
       "  </tbody>\n",
       "</table>\n",
       "</div>"
      ],
      "text/plain": [
       "               ID        crim          zn       indus        chas         nox  \\\n",
       "count  333.000000  333.000000  333.000000  333.000000  333.000000  333.000000   \n",
       "mean   250.951952    3.360341   10.689189   11.293483    0.060060    0.557144   \n",
       "std    147.859438    7.352272   22.674762    6.998123    0.237956    0.114955   \n",
       "min      1.000000    0.006320    0.000000    0.740000    0.000000    0.385000   \n",
       "25%    123.000000    0.078960    0.000000    5.130000    0.000000    0.453000   \n",
       "50%    244.000000    0.261690    0.000000    9.900000    0.000000    0.538000   \n",
       "75%    377.000000    3.678220   12.500000   18.100000    0.000000    0.631000   \n",
       "max    506.000000   73.534100  100.000000   27.740000    1.000000    0.871000   \n",
       "\n",
       "               rm         age         dis         rad         tax     ptratio  \\\n",
       "count  333.000000  333.000000  333.000000  333.000000  333.000000  333.000000   \n",
       "mean     6.265619   68.226426    3.709934    9.633634  409.279279   18.448048   \n",
       "std      0.703952   28.133344    1.981123    8.742174  170.841988    2.151821   \n",
       "min      3.561000    6.000000    1.129600    1.000000  188.000000   12.600000   \n",
       "25%      5.884000   45.400000    2.122400    4.000000  279.000000   17.400000   \n",
       "50%      6.202000   76.700000    3.092300    5.000000  330.000000   19.000000   \n",
       "75%      6.595000   93.800000    5.116700   24.000000  666.000000   20.200000   \n",
       "max      8.725000  100.000000   10.710300   24.000000  711.000000   21.200000   \n",
       "\n",
       "                b       lstat        medv  \n",
       "count  333.000000  333.000000  333.000000  \n",
       "mean   359.466096   12.515435   22.768769  \n",
       "std     86.584567    7.067781    9.173468  \n",
       "min      3.500000    1.730000    5.000000  \n",
       "25%    376.730000    7.180000   17.400000  \n",
       "50%    392.050000   10.970000   21.600000  \n",
       "75%    396.240000   16.420000   25.000000  \n",
       "max    396.900000   37.970000   50.000000  "
      ]
     },
     "execution_count": 4,
     "metadata": {},
     "output_type": "execute_result"
    }
   ],
   "source": [
    "df.describe()"
   ]
  },
  {
   "cell_type": "code",
   "execution_count": 5,
   "metadata": {},
   "outputs": [
    {
     "data": {
      "text/plain": [
       "0.26169000000000003"
      ]
     },
     "execution_count": 5,
     "metadata": {},
     "output_type": "execute_result"
    }
   ],
   "source": [
    "df['crim'].median()"
   ]
  },
  {
   "cell_type": "code",
   "execution_count": 6,
   "metadata": {},
   "outputs": [
    {
     "data": {
      "text/plain": [
       "8.725"
      ]
     },
     "execution_count": 6,
     "metadata": {},
     "output_type": "execute_result"
    }
   ],
   "source": [
    "df['rm'].max()"
   ]
  },
  {
   "cell_type": "code",
   "execution_count": 11,
   "metadata": {},
   "outputs": [
    {
     "data": {
      "text/plain": [
       "<matplotlib.axes._subplots.AxesSubplot at 0x1170709b0>"
      ]
     },
     "execution_count": 11,
     "metadata": {},
     "output_type": "execute_result"
    },
    {
     "data": {
      "image/png": "[encoded data removed]",
      "text/plain": [
       "<Figure size 432x288 with 1 Axes>"
      ]
     },
     "metadata": {
      "needs_background": "light"
     },
     "output_type": "display_data"
    }
   ],
   "source": [
    "df['crim'].hist(bins=5)"
   ]
  },
  {
   "cell_type": "code",
   "execution_count": 12,
   "metadata": {},
   "outputs": [
    {
     "data": {
      "text/plain": [
       "array([[<matplotlib.axes._subplots.AxesSubplot object at 0x1171463c8>,\n",
       "        <matplotlib.axes._subplots.AxesSubplot object at 0x117170fd0>,\n",
       "        <matplotlib.axes._subplots.AxesSubplot object at 0x1172165c0>,\n",
       "        <matplotlib.axes._subplots.AxesSubplot object at 0x117248b70>,\n",
       "        <matplotlib.axes._subplots.AxesSubplot object at 0x117288160>,\n",
       "        <matplotlib.axes._subplots.AxesSubplot object at 0x1172b6710>,\n",
       "        <matplotlib.axes._subplots.AxesSubplot object at 0x1172ebcc0>,\n",
       "        <matplotlib.axes._subplots.AxesSubplot object at 0x1173262e8>,\n",
       "        <matplotlib.axes._subplots.AxesSubplot object at 0x117326320>,\n",
       "        <matplotlib.axes._subplots.AxesSubplot object at 0x117389e10>,\n",
       "        <matplotlib.axes._subplots.AxesSubplot object at 0x1173c8400>,\n",
       "        <matplotlib.axes._subplots.AxesSubplot object at 0x1173f79b0>,\n",
       "        <matplotlib.axes._subplots.AxesSubplot object at 0x117429f60>,\n",
       "        <matplotlib.axes._subplots.AxesSubplot object at 0x117466550>,\n",
       "        <matplotlib.axes._subplots.AxesSubplot object at 0x117497b00>],\n",
       "       [<matplotlib.axes._subplots.AxesSubplot object at 0x1174d50f0>,\n",
       "        <matplotlib.axes._subplots.AxesSubplot object at 0x1175066a0>,\n",
       "        <matplotlib.axes._subplots.AxesSubplot object at 0x117537c50>,\n",
       "        <matplotlib.axes._subplots.AxesSubplot object at 0x117577240>,\n",
       "        <matplotlib.axes._subplots.AxesSubplot object at 0x1175a67f0>,\n",
       "        <matplotlib.axes._subplots.AxesSubplot object at 0x1175d8da0>,\n",
       "        <matplotlib.axes._subplots.AxesSubplot object at 0x117615390>,\n",
       "        <matplotlib.axes._subplots.AxesSubplot object at 0x117646940>,\n",
       "        <matplotlib.axes._subplots.AxesSubplot object at 0x117679ef0>,\n",
       "        <matplotlib.axes._subplots.AxesSubplot object at 0x1176b74e0>,\n",
       "        <matplotlib.axes._subplots.AxesSubplot object at 0x1176e6a90>,\n",
       "        <matplotlib.axes._subplots.AxesSubplot object at 0x117725080>,\n",
       "        <matplotlib.axes._subplots.AxesSubplot object at 0x117752630>,\n",
       "        <matplotlib.axes._subplots.AxesSubplot object at 0x117785be0>,\n",
       "        <matplotlib.axes._subplots.AxesSubplot object at 0x1177c31d0>],\n",
       "       [<matplotlib.axes._subplots.AxesSubplot object at 0x1177f4780>,\n",
       "        <matplotlib.axes._subplots.AxesSubplot object at 0x117826d30>,\n",
       "        <matplotlib.axes._subplots.AxesSubplot object at 0x117864320>,\n",
       "        <matplotlib.axes._subplots.AxesSubplot object at 0x1178938d0>,\n",
       "        <matplotlib.axes._subplots.AxesSubplot object at 0x1178c6e80>,\n",
       "        <matplotlib.axes._subplots.AxesSubplot object at 0x117903470>,\n",
       "        <matplotlib.axes._subplots.AxesSubplot object at 0x117934a20>,\n",
       "        <matplotlib.axes._subplots.AxesSubplot object at 0x117966fd0>,\n",
       "        <matplotlib.axes._subplots.AxesSubplot object at 0x1179a35c0>,\n",
       "        <matplotlib.axes._subplots.AxesSubplot object at 0x1179d4b70>,\n",
       "        <matplotlib.axes._subplots.AxesSubplot object at 0x117a14160>,\n",
       "        <matplotlib.axes._subplots.AxesSubplot object at 0x117a42710>,\n",
       "        <matplotlib.axes._subplots.AxesSubplot object at 0x117a75cc0>,\n",
       "        <matplotlib.axes._subplots.AxesSubplot object at 0x117ab12b0>,\n",
       "        <matplotlib.axes._subplots.AxesSubplot object at 0x117ae2860>],\n",
       "       [<matplotlib.axes._subplots.AxesSubplot object at 0x117b14e10>,\n",
       "        <matplotlib.axes._subplots.AxesSubplot object at 0x117b53400>,\n",
       "        <matplotlib.axes._subplots.AxesSubplot object at 0x117b839b0>,\n",
       "        <matplotlib.axes._subplots.AxesSubplot object at 0x117bb5f60>,\n",
       "        <matplotlib.axes._subplots.AxesSubplot object at 0x117bf3550>,\n",
       "        <matplotlib.axes._subplots.AxesSubplot object at 0x117c22b00>,\n",
       "        <matplotlib.axes._subplots.AxesSubplot object at 0x117c600f0>,\n",
       "        <matplotlib.axes._subplots.AxesSubplot object at 0x117c916a0>,\n",
       "        <matplotlib.axes._subplots.AxesSubplot object at 0x117cc0c50>,\n",
       "        <matplotlib.axes._subplots.AxesSubplot object at 0x117d00240>,\n",
       "        <matplotlib.axes._subplots.AxesSubplot object at 0x117d2f7f0>,\n",
       "        <matplotlib.axes._subplots.AxesSubplot object at 0x117d62da0>,\n",
       "        <matplotlib.axes._subplots.AxesSubplot object at 0x117d9f390>,\n",
       "        <matplotlib.axes._subplots.AxesSubplot object at 0x117dd1940>,\n",
       "        <matplotlib.axes._subplots.AxesSubplot object at 0x117e05ef0>],\n",
       "       [<matplotlib.axes._subplots.AxesSubplot object at 0x117e404e0>,\n",
       "        <matplotlib.axes._subplots.AxesSubplot object at 0x117e72a90>,\n",
       "        <matplotlib.axes._subplots.AxesSubplot object at 0x117eb0080>,\n",
       "        <matplotlib.axes._subplots.AxesSubplot object at 0x117ee2630>,\n",
       "        <matplotlib.axes._subplots.AxesSubplot object at 0x117f0fbe0>,\n",
       "        <matplotlib.axes._subplots.AxesSubplot object at 0x117f4f1d0>,\n",
       "        <matplotlib.axes._subplots.AxesSubplot object at 0x117f81780>,\n",
       "        <matplotlib.axes._subplots.AxesSubplot object at 0x117fb3d30>,\n",
       "        <matplotlib.axes._subplots.AxesSubplot object at 0x117fef320>,\n",
       "        <matplotlib.axes._subplots.AxesSubplot object at 0x1180218d0>,\n",
       "        <matplotlib.axes._subplots.AxesSubplot object at 0x118052e80>,\n",
       "        <matplotlib.axes._subplots.AxesSubplot object at 0x118090470>,\n",
       "        <matplotlib.axes._subplots.AxesSubplot object at 0x1180c0a20>,\n",
       "        <matplotlib.axes._subplots.AxesSubplot object at 0x1180f4fd0>,\n",
       "        <matplotlib.axes._subplots.AxesSubplot object at 0x11812d5c0>],\n",
       "       [<matplotlib.axes._subplots.AxesSubplot object at 0x118162b70>,\n",
       "        <matplotlib.axes._subplots.AxesSubplot object at 0x11819f160>,\n",
       "        <matplotlib.axes._subplots.AxesSubplot object at 0x1181cf710>,\n",
       "        <matplotlib.axes._subplots.AxesSubplot object at 0x118200cc0>,\n",
       "        <matplotlib.axes._subplots.AxesSubplot object at 0x11823f2b0>,\n",
       "        <matplotlib.axes._subplots.AxesSubplot object at 0x11826e860>,\n",
       "        <matplotlib.axes._subplots.AxesSubplot object at 0x1182a1e10>,\n",
       "        <matplotlib.axes._subplots.AxesSubplot object at 0x1182de400>,\n",
       "        <matplotlib.axes._subplots.AxesSubplot object at 0x11830f9b0>,\n",
       "        <matplotlib.axes._subplots.AxesSubplot object at 0x118340f60>,\n",
       "        <matplotlib.axes._subplots.AxesSubplot object at 0x118380550>,\n",
       "        <matplotlib.axes._subplots.AxesSubplot object at 0x1183aeb00>,\n",
       "        <matplotlib.axes._subplots.AxesSubplot object at 0x1183ef0f0>,\n",
       "        <matplotlib.axes._subplots.AxesSubplot object at 0x11841d6a0>,\n",
       "        <matplotlib.axes._subplots.AxesSubplot object at 0x118450c50>],\n",
       "       [<matplotlib.axes._subplots.AxesSubplot object at 0x11848e240>,\n",
       "        <matplotlib.axes._subplots.AxesSubplot object at 0x1184bc7f0>,\n",
       "        <matplotlib.axes._subplots.AxesSubplot object at 0x1184f0da0>,\n",
       "        <matplotlib.axes._subplots.AxesSubplot object at 0x11852d390>,\n",
       "        <matplotlib.axes._subplots.AxesSubplot object at 0x11855c940>,\n",
       "        <matplotlib.axes._subplots.AxesSubplot object at 0x118591ef0>,\n",
       "        <matplotlib.axes._subplots.AxesSubplot object at 0x1185cd4e0>,\n",
       "        <matplotlib.axes._subplots.AxesSubplot object at 0x1185fda90>,\n",
       "        <matplotlib.axes._subplots.AxesSubplot object at 0x11863c080>,\n",
       "        <matplotlib.axes._subplots.AxesSubplot object at 0x11866d630>,\n",
       "        <matplotlib.axes._subplots.AxesSubplot object at 0x11869cbe0>,\n",
       "        <matplotlib.axes._subplots.AxesSubplot object at 0x1186dc1d0>,\n",
       "        <matplotlib.axes._subplots.AxesSubplot object at 0x11870b780>,\n",
       "        <matplotlib.axes._subplots.AxesSubplot object at 0x11873ed30>,\n",
       "        <matplotlib.axes._subplots.AxesSubplot object at 0x11877c320>],\n",
       "       [<matplotlib.axes._subplots.AxesSubplot object at 0x1187ac8d0>,\n",
       "        <matplotlib.axes._subplots.AxesSubplot object at 0x1187dde80>,\n",
       "        <matplotlib.axes._subplots.AxesSubplot object at 0x11881b470>,\n",
       "        <matplotlib.axes._subplots.AxesSubplot object at 0x11884ca20>,\n",
       "        <matplotlib.axes._subplots.AxesSubplot object at 0x11887ffd0>,\n",
       "        <matplotlib.axes._subplots.AxesSubplot object at 0x1188b95c0>,\n",
       "        <matplotlib.axes._subplots.AxesSubplot object at 0x1188ebb70>,\n",
       "        <matplotlib.axes._subplots.AxesSubplot object at 0x11892b160>,\n",
       "        <matplotlib.axes._subplots.AxesSubplot object at 0x11895b710>,\n",
       "        <matplotlib.axes._subplots.AxesSubplot object at 0x11898acc0>,\n",
       "        <matplotlib.axes._subplots.AxesSubplot object at 0x1189cc2b0>,\n",
       "        <matplotlib.axes._subplots.AxesSubplot object at 0x1189f8860>,\n",
       "        <matplotlib.axes._subplots.AxesSubplot object at 0x118a2ce10>,\n",
       "        <matplotlib.axes._subplots.AxesSubplot object at 0x118a6a400>,\n",
       "        <matplotlib.axes._subplots.AxesSubplot object at 0x118a9c9b0>],\n",
       "       [<matplotlib.axes._subplots.AxesSubplot object at 0x118accf60>,\n",
       "        <matplotlib.axes._subplots.AxesSubplot object at 0x118b0b550>,\n",
       "        <matplotlib.axes._subplots.AxesSubplot object at 0x118b3bb00>,\n",
       "        <matplotlib.axes._subplots.AxesSubplot object at 0x118b8a0f0>,\n",
       "        <matplotlib.axes._subplots.AxesSubplot object at 0x118bb96a0>,\n",
       "        <matplotlib.axes._subplots.AxesSubplot object at 0x118bedc50>,\n",
       "        <matplotlib.axes._subplots.AxesSubplot object at 0x118c29240>,\n",
       "        <matplotlib.axes._subplots.AxesSubplot object at 0x118c5b7f0>,\n",
       "        <matplotlib.axes._subplots.AxesSubplot object at 0x118c8bda0>,\n",
       "        <matplotlib.axes._subplots.AxesSubplot object at 0x118cc8390>,\n",
       "        <matplotlib.axes._subplots.AxesSubplot object at 0x118cf8940>,\n",
       "        <matplotlib.axes._subplots.AxesSubplot object at 0x118d2eef0>,\n",
       "        <matplotlib.axes._subplots.AxesSubplot object at 0x118d694e0>,\n",
       "        <matplotlib.axes._subplots.AxesSubplot object at 0x118d9ba90>,\n",
       "        <matplotlib.axes._subplots.AxesSubplot object at 0x118dd8080>],\n",
       "       [<matplotlib.axes._subplots.AxesSubplot object at 0x118e0a630>,\n",
       "        <matplotlib.axes._subplots.AxesSubplot object at 0x118e3abe0>,\n",
       "        <matplotlib.axes._subplots.AxesSubplot object at 0x118e781d0>,\n",
       "        <matplotlib.axes._subplots.AxesSubplot object at 0x118ea9780>,\n",
       "        <matplotlib.axes._subplots.AxesSubplot object at 0x118edcd30>,\n",
       "        <matplotlib.axes._subplots.AxesSubplot object at 0x118f1a320>,\n",
       "        <matplotlib.axes._subplots.AxesSubplot object at 0x118f4b8d0>,\n",
       "        <matplotlib.axes._subplots.AxesSubplot object at 0x118f7be80>,\n",
       "        <matplotlib.axes._subplots.AxesSubplot object at 0x118fb9470>,\n",
       "        <matplotlib.axes._subplots.AxesSubplot object at 0x118fe7a20>,\n",
       "        <matplotlib.axes._subplots.AxesSubplot object at 0x11901dfd0>,\n",
       "        <matplotlib.axes._subplots.AxesSubplot object at 0x1190575c0>,\n",
       "        <matplotlib.axes._subplots.AxesSubplot object at 0x119089b70>,\n",
       "        <matplotlib.axes._subplots.AxesSubplot object at 0x1190c9160>,\n",
       "        <matplotlib.axes._subplots.AxesSubplot object at 0x1190f9710>],\n",
       "       [<matplotlib.axes._subplots.AxesSubplot object at 0x11912bcc0>,\n",
       "        <matplotlib.axes._subplots.AxesSubplot object at 0x11916a2b0>,\n",
       "        <matplotlib.axes._subplots.AxesSubplot object at 0x119199860>,\n",
       "        <matplotlib.axes._subplots.AxesSubplot object at 0x1191cce10>,\n",
       "        <matplotlib.axes._subplots.AxesSubplot object at 0x119208400>,\n",
       "        <matplotlib.axes._subplots.AxesSubplot object at 0x11923a9b0>,\n",
       "        <matplotlib.axes._subplots.AxesSubplot object at 0x119269f60>,\n",
       "        <matplotlib.axes._subplots.AxesSubplot object at 0x1192a8550>,\n",
       "        <matplotlib.axes._subplots.AxesSubplot object at 0x1192d9b00>,\n",
       "        <matplotlib.axes._subplots.AxesSubplot object at 0x1193180f0>,\n",
       "        <matplotlib.axes._subplots.AxesSubplot object at 0x1193476a0>,\n",
       "        <matplotlib.axes._subplots.AxesSubplot object at 0x11937bc50>,\n",
       "        <matplotlib.axes._subplots.AxesSubplot object at 0x1193b9240>,\n",
       "        <matplotlib.axes._subplots.AxesSubplot object at 0x1193e77f0>,\n",
       "        <matplotlib.axes._subplots.AxesSubplot object at 0x11941ada0>],\n",
       "       [<matplotlib.axes._subplots.AxesSubplot object at 0x119459390>,\n",
       "        <matplotlib.axes._subplots.AxesSubplot object at 0x119487940>,\n",
       "        <matplotlib.axes._subplots.AxesSubplot object at 0x1194bbef0>,\n",
       "        <matplotlib.axes._subplots.AxesSubplot object at 0x1194f64e0>,\n",
       "        <matplotlib.axes._subplots.AxesSubplot object at 0x119527a90>,\n",
       "        <matplotlib.axes._subplots.AxesSubplot object at 0x119567080>,\n",
       "        <matplotlib.axes._subplots.AxesSubplot object at 0x119596630>,\n",
       "        <matplotlib.axes._subplots.AxesSubplot object at 0x1195cabe0>,\n",
       "        <matplotlib.axes._subplots.AxesSubplot object at 0x1196051d0>,\n",
       "        <matplotlib.axes._subplots.AxesSubplot object at 0x119637780>,\n",
       "        <matplotlib.axes._subplots.AxesSubplot object at 0x11966ad30>,\n",
       "        <matplotlib.axes._subplots.AxesSubplot object at 0x1196a8320>,\n",
       "        <matplotlib.axes._subplots.AxesSubplot object at 0x1196d78d0>,\n",
       "        <matplotlib.axes._subplots.AxesSubplot object at 0x11970ae80>,\n",
       "        <matplotlib.axes._subplots.AxesSubplot object at 0x119747470>],\n",
       "       [<matplotlib.axes._subplots.AxesSubplot object at 0x119777a20>,\n",
       "        <matplotlib.axes._subplots.AxesSubplot object at 0x1197aafd0>,\n",
       "        <matplotlib.axes._subplots.AxesSubplot object at 0x1197e55c0>,\n",
       "        <matplotlib.axes._subplots.AxesSubplot object at 0x119815b70>,\n",
       "        <matplotlib.axes._subplots.AxesSubplot object at 0x119858160>,\n",
       "        <matplotlib.axes._subplots.AxesSubplot object at 0x119885710>,\n",
       "        <matplotlib.axes._subplots.AxesSubplot object at 0x1198b8cc0>,\n",
       "        <matplotlib.axes._subplots.AxesSubplot object at 0x1198f42b0>,\n",
       "        <matplotlib.axes._subplots.AxesSubplot object at 0x119926860>,\n",
       "        <matplotlib.axes._subplots.AxesSubplot object at 0x119957e10>,\n",
       "        <matplotlib.axes._subplots.AxesSubplot object at 0x119995400>,\n",
       "        <matplotlib.axes._subplots.AxesSubplot object at 0x1199c79b0>,\n",
       "        <matplotlib.axes._subplots.AxesSubplot object at 0x1199f9f60>,\n",
       "        <matplotlib.axes._subplots.AxesSubplot object at 0x119a35550>,\n",
       "        <matplotlib.axes._subplots.AxesSubplot object at 0x119a68b00>],\n",
       "       [<matplotlib.axes._subplots.AxesSubplot object at 0x119aa30f0>,\n",
       "        <matplotlib.axes._subplots.AxesSubplot object at 0x119ad66a0>,\n",
       "        <matplotlib.axes._subplots.AxesSubplot object at 0x119b07c50>,\n",
       "        <matplotlib.axes._subplots.AxesSubplot object at 0x119b45240>,\n",
       "        <matplotlib.axes._subplots.AxesSubplot object at 0x119b757f0>,\n",
       "        <matplotlib.axes._subplots.AxesSubplot object at 0x119ba6da0>,\n",
       "        <matplotlib.axes._subplots.AxesSubplot object at 0x119be4390>,\n",
       "        <matplotlib.axes._subplots.AxesSubplot object at 0x119c16940>,\n",
       "        <matplotlib.axes._subplots.AxesSubplot object at 0x119c48ef0>,\n",
       "        <matplotlib.axes._subplots.AxesSubplot object at 0x119c864e0>,\n",
       "        <matplotlib.axes._subplots.AxesSubplot object at 0x119cb7a90>,\n",
       "        <matplotlib.axes._subplots.AxesSubplot object at 0x119cf5080>,\n",
       "        <matplotlib.axes._subplots.AxesSubplot object at 0x119d24630>,\n",
       "        <matplotlib.axes._subplots.AxesSubplot object at 0x119d57be0>,\n",
       "        <matplotlib.axes._subplots.AxesSubplot object at 0x119d921d0>],\n",
       "       [<matplotlib.axes._subplots.AxesSubplot object at 0x119dc5780>,\n",
       "        <matplotlib.axes._subplots.AxesSubplot object at 0x119df8d30>,\n",
       "        <matplotlib.axes._subplots.AxesSubplot object at 0x119e35320>,\n",
       "        <matplotlib.axes._subplots.AxesSubplot object at 0x119e658d0>,\n",
       "        <matplotlib.axes._subplots.AxesSubplot object at 0x119e99e80>,\n",
       "        <matplotlib.axes._subplots.AxesSubplot object at 0x119ed4470>,\n",
       "        <matplotlib.axes._subplots.AxesSubplot object at 0x119f05a20>,\n",
       "        <matplotlib.axes._subplots.AxesSubplot object at 0x119f39fd0>,\n",
       "        <matplotlib.axes._subplots.AxesSubplot object at 0x119f755c0>,\n",
       "        <matplotlib.axes._subplots.AxesSubplot object at 0x119fa4b70>,\n",
       "        <matplotlib.axes._subplots.AxesSubplot object at 0x119fe6160>,\n",
       "        <matplotlib.axes._subplots.AxesSubplot object at 0x11a014710>,\n",
       "        <matplotlib.axes._subplots.AxesSubplot object at 0x11a046cc0>,\n",
       "        <matplotlib.axes._subplots.AxesSubplot object at 0x11a0832b0>,\n",
       "        <matplotlib.axes._subplots.AxesSubplot object at 0x11a0b4860>]],\n",
       "      dtype=object)"
      ]
     },
     "execution_count": 12,
     "metadata": {},
     "output_type": "execute_result"
    },
    {
     "data": {
      "image/png": "[encoded data removed]",
      "text/plain": [
       "<Figure size 432x288 with 225 Axes>"
      ]
     },
     "metadata": {
      "needs_background": "light"
     },
     "output_type": "display_data"
    }
   ],
   "source": [
    "pd.plotting.scatter_matrix(df)"
   ]
  },
  {
   "cell_type": "code",
   "execution_count": 14,
   "metadata": {},
   "outputs": [
    {
     "data": {
      "text/plain": [
       "Index(['ID', 'crim', 'zn', 'indus', 'chas', 'nox', 'rm', 'age', 'dis', 'rad',\n",
       "       'tax', 'ptratio', 'b', 'lstat', 'medv'],\n",
       "      dtype='object')"
      ]
     },
     "execution_count": 14,
     "metadata": {},
     "output_type": "execute_result"
    }
   ],
   "source": [
    "df.columns"
   ]
  },
  {
   "cell_type": "code",
   "execution_count": 15,
   "metadata": {},
   "outputs": [
    {
     "data": {
      "text/plain": [
       "<matplotlib.axes._subplots.AxesSubplot at 0x11713f9b0>"
      ]
     },
     "execution_count": 15,
     "metadata": {},
     "output_type": "execute_result"
    },
    {
     "data": {
      "image/png": "[encoded data removed]",
      "text/plain": [
       "<Figure size 432x288 with 1 Axes>"
      ]
     },
     "metadata": {
      "needs_background": "light"
     },
     "output_type": "display_data"
    }
   ],
   "source": [
    "df.plot.scatter('indus', 'crim')"
   ]
  },
  {
   "cell_type": "code",
   "execution_count": 17,
   "metadata": {},
   "outputs": [
    {
     "data": {
      "text/plain": [
       "<matplotlib.axes._subplots.AxesSubplot at 0x11ad9a748>"
      ]
     },
     "execution_count": 17,
     "metadata": {},
     "output_type": "execute_result"
    },
    {
     "data": {
      "image/png": "[encoded data removed]",
      "text/plain": [
       "<Figure size 432x288 with 1 Axes>"
      ]
     },
     "metadata": {
      "needs_background": "light"
     },
     "output_type": "display_data"
    }
   ],
   "source": [
    "df.plot.scatter('crim', 'ptratio')"
   ]
  },
  {
   "cell_type": "code",
   "execution_count": 19,
   "metadata": {},
   "outputs": [
    {
     "data": {
      "text/plain": [
       "array([ 4.98,  9.14,  2.94,  5.33, 12.43, 20.45, 13.27, 15.71,  8.26,\n",
       "       10.26,  8.47,  6.58, 11.69, 21.02, 13.83, 18.72, 19.88, 17.28,\n",
       "       22.6 , 13.04, 20.34, 10.13,  4.32,  1.98,  5.81,  7.44,  9.55,\n",
       "       10.21, 14.15, 18.8 , 16.2 , 13.45,  9.43,  8.43, 14.8 ,  4.81,\n",
       "        5.77,  3.95,  6.86, 13.15, 14.44,  9.5 ,  8.05,  4.67, 10.24,\n",
       "        8.1 , 13.09,  6.72,  5.52,  7.54,  6.78,  8.94, 11.97, 10.27,\n",
       "        5.29,  7.22,  7.51,  9.62,  6.53, 12.86,  8.44,  5.5 ,  5.7 ,\n",
       "        8.81,  6.21, 10.59, 11.34,  9.42,  7.67, 10.63, 13.44, 18.66,\n",
       "       14.09, 12.27, 15.55, 10.16, 10.45, 12.04, 10.3 , 15.37, 13.61,\n",
       "       14.37, 14.27, 17.93, 25.41, 17.58, 27.26, 17.19, 15.39, 12.26,\n",
       "       15.03, 17.31, 16.9 , 14.59, 21.32, 18.46, 34.41, 26.82, 27.8 ,\n",
       "       29.53, 28.32, 21.45, 14.1 , 15.79, 15.12, 16.14,  6.43,  7.39,\n",
       "        5.5 ,  1.73,  3.32, 11.64,  9.81,  3.7 , 12.14, 11.32, 14.43,\n",
       "       12.03, 14.69,  9.04,  9.64,  5.33, 10.11,  6.29,  6.92,  5.04,\n",
       "        7.56,  9.45,  4.82,  5.68,  4.45,  6.68,  5.39,  5.1 ,  4.69,\n",
       "        2.87,  5.03,  4.38,  8.61,  4.45,  7.43,  3.81,  2.88, 10.87,\n",
       "       10.97, 14.66, 23.98,  9.38, 29.55, 13.51, 21.46,  9.93,  7.6 ,\n",
       "        4.14,  4.63,  3.13,  6.36,  3.76, 11.65,  2.47,  3.95,  8.05,\n",
       "       10.88,  9.54, 11.38, 11.22,  5.19, 12.5 ,  9.16,  9.52,  6.56,\n",
       "        5.9 ,  3.59,  3.54,  9.59,  7.26,  5.91, 11.25,  8.1 , 10.45,\n",
       "       14.79,  3.16,  6.59,  7.73,  6.58,  3.53,  4.85,  4.59,  3.01,\n",
       "        3.16,  7.85,  8.23, 12.93,  7.6 ,  3.33,  4.7 ,  8.58,  7.39,\n",
       "       15.84,  9.5 ,  8.67,  4.86,  6.93,  8.93,  6.47,  4.54,  9.97,\n",
       "       12.64,  5.98, 11.72, 11.5 , 18.33, 15.94, 10.36,  7.2 ,  6.12,\n",
       "        5.08, 12.79,  9.97,  9.09,  5.68,  6.75,  9.8 ,  8.51,  9.74,\n",
       "        9.29,  5.49,  8.65,  7.18,  4.61,  6.36,  5.99,  5.89,  7.79,\n",
       "       17.6 , 13.27, 11.48, 12.67,  7.79, 10.19,  7.12, 14.  , 13.33,\n",
       "        3.26,  2.96,  9.53,  8.88, 34.77, 37.97, 23.24, 21.24, 23.6 ,\n",
       "       24.56, 30.63, 28.28, 31.99, 20.85, 18.76, 25.68, 16.35, 19.37,\n",
       "       30.59, 26.77, 20.32, 19.77, 12.13, 26.4 , 20.08, 36.98, 29.05,\n",
       "       26.64, 20.62, 22.74, 17.16, 24.39, 14.52, 21.52, 24.08, 19.69,\n",
       "       12.03, 16.22, 15.17, 26.45, 22.88, 22.11, 19.52, 16.59, 18.85,\n",
       "       23.79, 23.98, 16.44, 18.13, 17.73, 17.27, 16.74, 18.13, 16.94,\n",
       "       16.23, 14.7 , 16.42, 14.65, 13.99, 10.29, 13.22, 14.13, 17.15,\n",
       "       21.32, 18.13, 14.76, 12.87, 14.36, 18.14, 18.68, 24.91, 18.03,\n",
       "       13.11, 10.74,  7.74, 10.42, 13.34, 14.98, 11.45, 18.06, 29.68,\n",
       "       18.07, 13.35, 12.01, 14.1 , 15.1 ,  9.67,  9.08,  5.64,  7.88])"
      ]
     },
     "execution_count": 19,
     "metadata": {},
     "output_type": "execute_result"
    }
   ],
   "source": [
    "df['lstat'].values"
   ]
  },
  {
   "cell_type": "code",
   "execution_count": 22,
   "metadata": {},
   "outputs": [
    {
     "data": {
      "text/plain": [
       "<matplotlib.axes._subplots.AxesSubplot at 0x11adcbcf8>"
      ]
     },
     "execution_count": 22,
     "metadata": {},
     "output_type": "execute_result"
    },
    {
     "data": {
      "image/png": "[encoded data removed]",
      "text/plain": [
       "<Figure size 432x288 with 1 Axes>"
      ]
     },
     "metadata": {
      "needs_background": "light"
     },
     "output_type": "display_data"
    }
   ],
   "source": [
    "df['dis'].hist()"
   ]
  },
  {
   "cell_type": "code",
   "execution_count": 24,
   "metadata": {},
   "outputs": [
    {
     "data": {
      "text/plain": [
       "count    333.000000\n",
       "mean       3.709934\n",
       "std        1.981123\n",
       "min        1.129600\n",
       "25%        2.122400\n",
       "50%        3.092300\n",
       "75%        5.116700\n",
       "max       10.710300\n",
       "Name: dis, dtype: float64"
      ]
     },
     "execution_count": 24,
     "metadata": {},
     "output_type": "execute_result"
    }
   ],
   "source": [
    "df['dis'].describe()"
   ]
  },
  {
   "cell_type": "code",
   "execution_count": 41,
   "metadata": {},
   "outputs": [
    {
     "data": {
      "text/html": [
       "<div>\n",
       "<style scoped>\n",
       "    .dataframe tbody tr th:only-of-type {\n",
       "        vertical-align: middle;\n",
       "    }\n",
       "\n",
       "    .dataframe tbody tr th {\n",
       "        vertical-align: top;\n",
       "    }\n",
       "\n",
       "    .dataframe thead th {\n",
       "        text-align: right;\n",
       "    }\n",
       "</style>\n",
       "<table border=\"1\" class=\"dataframe\">\n",
       "  <thead>\n",
       "    <tr style=\"text-align: right;\">\n",
       "      <th></th>\n",
       "      <th>ID</th>\n",
       "      <th>crim</th>\n",
       "      <th>zn</th>\n",
       "      <th>indus</th>\n",
       "      <th>chas</th>\n",
       "      <th>nox</th>\n",
       "      <th>rm</th>\n",
       "      <th>age</th>\n",
       "      <th>dis</th>\n",
       "      <th>rad</th>\n",
       "      <th>tax</th>\n",
       "      <th>ptratio</th>\n",
       "      <th>b</th>\n",
       "      <th>lstat</th>\n",
       "      <th>medv</th>\n",
       "    </tr>\n",
       "  </thead>\n",
       "  <tbody>\n",
       "    <tr>\n",
       "      <td>12</td>\n",
       "      <td>19</td>\n",
       "      <td>0.80271</td>\n",
       "      <td>0.0</td>\n",
       "      <td>8.14</td>\n",
       "      <td>0</td>\n",
       "      <td>0.538</td>\n",
       "      <td>5.456</td>\n",
       "      <td>36.6</td>\n",
       "      <td>3.7965</td>\n",
       "      <td>4</td>\n",
       "      <td>307</td>\n",
       "      <td>21.0</td>\n",
       "      <td>288.99</td>\n",
       "      <td>11.69</td>\n",
       "      <td>20.2</td>\n",
       "    </tr>\n",
       "    <tr>\n",
       "      <td>13</td>\n",
       "      <td>21</td>\n",
       "      <td>1.25179</td>\n",
       "      <td>0.0</td>\n",
       "      <td>8.14</td>\n",
       "      <td>0</td>\n",
       "      <td>0.538</td>\n",
       "      <td>5.570</td>\n",
       "      <td>98.1</td>\n",
       "      <td>3.7979</td>\n",
       "      <td>4</td>\n",
       "      <td>307</td>\n",
       "      <td>21.0</td>\n",
       "      <td>376.57</td>\n",
       "      <td>21.02</td>\n",
       "      <td>13.6</td>\n",
       "    </tr>\n",
       "    <tr>\n",
       "      <td>15</td>\n",
       "      <td>23</td>\n",
       "      <td>1.23247</td>\n",
       "      <td>0.0</td>\n",
       "      <td>8.14</td>\n",
       "      <td>0</td>\n",
       "      <td>0.538</td>\n",
       "      <td>6.142</td>\n",
       "      <td>91.7</td>\n",
       "      <td>3.9769</td>\n",
       "      <td>4</td>\n",
       "      <td>307</td>\n",
       "      <td>21.0</td>\n",
       "      <td>396.90</td>\n",
       "      <td>18.72</td>\n",
       "      <td>15.2</td>\n",
       "    </tr>\n",
       "    <tr>\n",
       "      <td>20</td>\n",
       "      <td>35</td>\n",
       "      <td>1.61282</td>\n",
       "      <td>0.0</td>\n",
       "      <td>8.14</td>\n",
       "      <td>0</td>\n",
       "      <td>0.538</td>\n",
       "      <td>6.096</td>\n",
       "      <td>96.9</td>\n",
       "      <td>3.7598</td>\n",
       "      <td>4</td>\n",
       "      <td>307</td>\n",
       "      <td>21.0</td>\n",
       "      <td>248.31</td>\n",
       "      <td>20.34</td>\n",
       "      <td>13.5</td>\n",
       "    </tr>\n",
       "    <tr>\n",
       "      <td>21</td>\n",
       "      <td>39</td>\n",
       "      <td>0.17505</td>\n",
       "      <td>0.0</td>\n",
       "      <td>5.96</td>\n",
       "      <td>0</td>\n",
       "      <td>0.499</td>\n",
       "      <td>5.966</td>\n",
       "      <td>30.2</td>\n",
       "      <td>3.8473</td>\n",
       "      <td>5</td>\n",
       "      <td>279</td>\n",
       "      <td>19.2</td>\n",
       "      <td>393.43</td>\n",
       "      <td>10.13</td>\n",
       "      <td>24.7</td>\n",
       "    </tr>\n",
       "  </tbody>\n",
       "</table>\n",
       "</div>"
      ],
      "text/plain": [
       "    ID     crim   zn  indus  chas    nox     rm   age     dis  rad  tax  \\\n",
       "12  19  0.80271  0.0   8.14     0  0.538  5.456  36.6  3.7965    4  307   \n",
       "13  21  1.25179  0.0   8.14     0  0.538  5.570  98.1  3.7979    4  307   \n",
       "15  23  1.23247  0.0   8.14     0  0.538  6.142  91.7  3.9769    4  307   \n",
       "20  35  1.61282  0.0   8.14     0  0.538  6.096  96.9  3.7598    4  307   \n",
       "21  39  0.17505  0.0   5.96     0  0.499  5.966  30.2  3.8473    5  279   \n",
       "\n",
       "    ptratio       b  lstat  medv  \n",
       "12     21.0  288.99  11.69  20.2  \n",
       "13     21.0  376.57  21.02  13.6  \n",
       "15     21.0  396.90  18.72  15.2  \n",
       "20     21.0  248.31  20.34  13.5  \n",
       "21     19.2  393.43  10.13  24.7  "
      ]
     },
     "execution_count": 41,
     "metadata": {},
     "output_type": "execute_result"
    }
   ],
   "source": [
    "#split dataset into those with dis less than 4 and those greater than or equal to 4\n",
    "df_close_dis = df[df['dis'] < 4]\n",
    "df_close_dis.head()"
   ]
  },
  {
   "cell_type": "code",
   "execution_count": 42,
   "metadata": {},
   "outputs": [],
   "source": [
    "df_far_dis = df[df['dis'] >= 4]"
   ]
  },
  {
   "cell_type": "code",
   "execution_count": 27,
   "metadata": {},
   "outputs": [
    {
     "data": {
      "text/html": [
       "<div>\n",
       "<style scoped>\n",
       "    .dataframe tbody tr th:only-of-type {\n",
       "        vertical-align: middle;\n",
       "    }\n",
       "\n",
       "    .dataframe tbody tr th {\n",
       "        vertical-align: top;\n",
       "    }\n",
       "\n",
       "    .dataframe thead th {\n",
       "        text-align: right;\n",
       "    }\n",
       "</style>\n",
       "<table border=\"1\" class=\"dataframe\">\n",
       "  <thead>\n",
       "    <tr style=\"text-align: right;\">\n",
       "      <th></th>\n",
       "      <th>ID</th>\n",
       "      <th>crim</th>\n",
       "      <th>zn</th>\n",
       "      <th>indus</th>\n",
       "      <th>chas</th>\n",
       "      <th>nox</th>\n",
       "      <th>rm</th>\n",
       "      <th>age</th>\n",
       "      <th>dis</th>\n",
       "      <th>rad</th>\n",
       "      <th>tax</th>\n",
       "      <th>ptratio</th>\n",
       "      <th>b</th>\n",
       "      <th>lstat</th>\n",
       "      <th>medv</th>\n",
       "    </tr>\n",
       "  </thead>\n",
       "  <tbody>\n",
       "    <tr>\n",
       "      <td>0</td>\n",
       "      <td>1</td>\n",
       "      <td>0.00632</td>\n",
       "      <td>18.0</td>\n",
       "      <td>2.31</td>\n",
       "      <td>0</td>\n",
       "      <td>0.538</td>\n",
       "      <td>6.575</td>\n",
       "      <td>65.2</td>\n",
       "      <td>4.0900</td>\n",
       "      <td>1</td>\n",
       "      <td>296</td>\n",
       "      <td>15.3</td>\n",
       "      <td>396.90</td>\n",
       "      <td>4.98</td>\n",
       "      <td>24.0</td>\n",
       "    </tr>\n",
       "    <tr>\n",
       "      <td>1</td>\n",
       "      <td>2</td>\n",
       "      <td>0.02731</td>\n",
       "      <td>0.0</td>\n",
       "      <td>7.07</td>\n",
       "      <td>0</td>\n",
       "      <td>0.469</td>\n",
       "      <td>6.421</td>\n",
       "      <td>78.9</td>\n",
       "      <td>4.9671</td>\n",
       "      <td>2</td>\n",
       "      <td>242</td>\n",
       "      <td>17.8</td>\n",
       "      <td>396.90</td>\n",
       "      <td>9.14</td>\n",
       "      <td>21.6</td>\n",
       "    </tr>\n",
       "    <tr>\n",
       "      <td>2</td>\n",
       "      <td>4</td>\n",
       "      <td>0.03237</td>\n",
       "      <td>0.0</td>\n",
       "      <td>2.18</td>\n",
       "      <td>0</td>\n",
       "      <td>0.458</td>\n",
       "      <td>6.998</td>\n",
       "      <td>45.8</td>\n",
       "      <td>6.0622</td>\n",
       "      <td>3</td>\n",
       "      <td>222</td>\n",
       "      <td>18.7</td>\n",
       "      <td>394.63</td>\n",
       "      <td>2.94</td>\n",
       "      <td>33.4</td>\n",
       "    </tr>\n",
       "    <tr>\n",
       "      <td>3</td>\n",
       "      <td>5</td>\n",
       "      <td>0.06905</td>\n",
       "      <td>0.0</td>\n",
       "      <td>2.18</td>\n",
       "      <td>0</td>\n",
       "      <td>0.458</td>\n",
       "      <td>7.147</td>\n",
       "      <td>54.2</td>\n",
       "      <td>6.0622</td>\n",
       "      <td>3</td>\n",
       "      <td>222</td>\n",
       "      <td>18.7</td>\n",
       "      <td>396.90</td>\n",
       "      <td>5.33</td>\n",
       "      <td>36.2</td>\n",
       "    </tr>\n",
       "    <tr>\n",
       "      <td>4</td>\n",
       "      <td>7</td>\n",
       "      <td>0.08829</td>\n",
       "      <td>12.5</td>\n",
       "      <td>7.87</td>\n",
       "      <td>0</td>\n",
       "      <td>0.524</td>\n",
       "      <td>6.012</td>\n",
       "      <td>66.6</td>\n",
       "      <td>5.5605</td>\n",
       "      <td>5</td>\n",
       "      <td>311</td>\n",
       "      <td>15.2</td>\n",
       "      <td>395.60</td>\n",
       "      <td>12.43</td>\n",
       "      <td>22.9</td>\n",
       "    </tr>\n",
       "  </tbody>\n",
       "</table>\n",
       "</div>"
      ],
      "text/plain": [
       "   ID     crim    zn  indus  chas    nox     rm   age     dis  rad  tax  \\\n",
       "0   1  0.00632  18.0   2.31     0  0.538  6.575  65.2  4.0900    1  296   \n",
       "1   2  0.02731   0.0   7.07     0  0.469  6.421  78.9  4.9671    2  242   \n",
       "2   4  0.03237   0.0   2.18     0  0.458  6.998  45.8  6.0622    3  222   \n",
       "3   5  0.06905   0.0   2.18     0  0.458  7.147  54.2  6.0622    3  222   \n",
       "4   7  0.08829  12.5   7.87     0  0.524  6.012  66.6  5.5605    5  311   \n",
       "\n",
       "   ptratio       b  lstat  medv  \n",
       "0     15.3  396.90   4.98  24.0  \n",
       "1     17.8  396.90   9.14  21.6  \n",
       "2     18.7  394.63   2.94  33.4  \n",
       "3     18.7  396.90   5.33  36.2  \n",
       "4     15.2  395.60  12.43  22.9  "
      ]
     },
     "execution_count": 27,
     "metadata": {},
     "output_type": "execute_result"
    }
   ],
   "source": [
    "df_far_dis.head()"
   ]
  },
  {
   "cell_type": "code",
   "execution_count": 28,
   "metadata": {},
   "outputs": [
    {
     "data": {
      "text/html": [
       "<div>\n",
       "<style scoped>\n",
       "    .dataframe tbody tr th:only-of-type {\n",
       "        vertical-align: middle;\n",
       "    }\n",
       "\n",
       "    .dataframe tbody tr th {\n",
       "        vertical-align: top;\n",
       "    }\n",
       "\n",
       "    .dataframe thead th {\n",
       "        text-align: right;\n",
       "    }\n",
       "</style>\n",
       "<table border=\"1\" class=\"dataframe\">\n",
       "  <thead>\n",
       "    <tr style=\"text-align: right;\">\n",
       "      <th></th>\n",
       "      <th>ID</th>\n",
       "      <th>crim</th>\n",
       "      <th>zn</th>\n",
       "      <th>indus</th>\n",
       "      <th>chas</th>\n",
       "      <th>nox</th>\n",
       "      <th>rm</th>\n",
       "      <th>age</th>\n",
       "      <th>dis</th>\n",
       "      <th>rad</th>\n",
       "      <th>tax</th>\n",
       "      <th>ptratio</th>\n",
       "      <th>b</th>\n",
       "      <th>lstat</th>\n",
       "      <th>medv</th>\n",
       "    </tr>\n",
       "  </thead>\n",
       "  <tbody>\n",
       "    <tr>\n",
       "      <td>230</td>\n",
       "      <td>348</td>\n",
       "      <td>0.01870</td>\n",
       "      <td>85.0</td>\n",
       "      <td>4.15</td>\n",
       "      <td>0</td>\n",
       "      <td>0.429</td>\n",
       "      <td>6.516</td>\n",
       "      <td>27.7</td>\n",
       "      <td>8.5353</td>\n",
       "      <td>4</td>\n",
       "      <td>351</td>\n",
       "      <td>17.9</td>\n",
       "      <td>392.43</td>\n",
       "      <td>6.36</td>\n",
       "      <td>23.1</td>\n",
       "    </tr>\n",
       "    <tr>\n",
       "      <td>231</td>\n",
       "      <td>349</td>\n",
       "      <td>0.01501</td>\n",
       "      <td>80.0</td>\n",
       "      <td>2.01</td>\n",
       "      <td>0</td>\n",
       "      <td>0.435</td>\n",
       "      <td>6.635</td>\n",
       "      <td>29.7</td>\n",
       "      <td>8.3440</td>\n",
       "      <td>4</td>\n",
       "      <td>280</td>\n",
       "      <td>17.0</td>\n",
       "      <td>390.94</td>\n",
       "      <td>5.99</td>\n",
       "      <td>24.5</td>\n",
       "    </tr>\n",
       "    <tr>\n",
       "      <td>232</td>\n",
       "      <td>350</td>\n",
       "      <td>0.02899</td>\n",
       "      <td>40.0</td>\n",
       "      <td>1.25</td>\n",
       "      <td>0</td>\n",
       "      <td>0.429</td>\n",
       "      <td>6.939</td>\n",
       "      <td>34.5</td>\n",
       "      <td>8.7921</td>\n",
       "      <td>1</td>\n",
       "      <td>335</td>\n",
       "      <td>19.7</td>\n",
       "      <td>389.85</td>\n",
       "      <td>5.89</td>\n",
       "      <td>26.6</td>\n",
       "    </tr>\n",
       "    <tr>\n",
       "      <td>233</td>\n",
       "      <td>353</td>\n",
       "      <td>0.07244</td>\n",
       "      <td>60.0</td>\n",
       "      <td>1.69</td>\n",
       "      <td>0</td>\n",
       "      <td>0.411</td>\n",
       "      <td>5.884</td>\n",
       "      <td>18.5</td>\n",
       "      <td>10.7103</td>\n",
       "      <td>4</td>\n",
       "      <td>411</td>\n",
       "      <td>18.3</td>\n",
       "      <td>392.33</td>\n",
       "      <td>7.79</td>\n",
       "      <td>18.6</td>\n",
       "    </tr>\n",
       "    <tr>\n",
       "      <td>318</td>\n",
       "      <td>484</td>\n",
       "      <td>2.81838</td>\n",
       "      <td>0.0</td>\n",
       "      <td>18.10</td>\n",
       "      <td>0</td>\n",
       "      <td>0.532</td>\n",
       "      <td>5.762</td>\n",
       "      <td>40.3</td>\n",
       "      <td>4.0983</td>\n",
       "      <td>24</td>\n",
       "      <td>666</td>\n",
       "      <td>20.2</td>\n",
       "      <td>392.92</td>\n",
       "      <td>10.42</td>\n",
       "      <td>21.8</td>\n",
       "    </tr>\n",
       "  </tbody>\n",
       "</table>\n",
       "</div>"
      ],
      "text/plain": [
       "      ID     crim    zn  indus  chas    nox     rm   age      dis  rad  tax  \\\n",
       "230  348  0.01870  85.0   4.15     0  0.429  6.516  27.7   8.5353    4  351   \n",
       "231  349  0.01501  80.0   2.01     0  0.435  6.635  29.7   8.3440    4  280   \n",
       "232  350  0.02899  40.0   1.25     0  0.429  6.939  34.5   8.7921    1  335   \n",
       "233  353  0.07244  60.0   1.69     0  0.411  5.884  18.5  10.7103    4  411   \n",
       "318  484  2.81838   0.0  18.10     0  0.532  5.762  40.3   4.0983   24  666   \n",
       "\n",
       "     ptratio       b  lstat  medv  \n",
       "230     17.9  392.43   6.36  23.1  \n",
       "231     17.0  390.94   5.99  24.5  \n",
       "232     19.7  389.85   5.89  26.6  \n",
       "233     18.3  392.33   7.79  18.6  \n",
       "318     20.2  392.92  10.42  21.8  "
      ]
     },
     "execution_count": 28,
     "metadata": {},
     "output_type": "execute_result"
    }
   ],
   "source": [
    "df_far_dis.tail()"
   ]
  },
  {
   "cell_type": "code",
   "execution_count": 29,
   "metadata": {},
   "outputs": [
    {
     "data": {
      "text/plain": [
       "<matplotlib.axes._subplots.AxesSubplot at 0x11ac86780>"
      ]
     },
     "execution_count": 29,
     "metadata": {},
     "output_type": "execute_result"
    },
    {
     "data": {
      "image/png": "[encoded data removed]",
      "text/plain": [
       "<Figure size 432x288 with 1 Axes>"
      ]
     },
     "metadata": {
      "needs_background": "light"
     },
     "output_type": "display_data"
    }
   ],
   "source": [
    "df['age'].plot()"
   ]
  },
  {
   "cell_type": "code",
   "execution_count": 30,
   "metadata": {},
   "outputs": [
    {
     "data": {
      "text/plain": [
       "<matplotlib.axes._subplots.AxesSubplot at 0x11b564be0>"
      ]
     },
     "execution_count": 30,
     "metadata": {},
     "output_type": "execute_result"
    },
    {
     "data": {
      "image/png": "[encoded data removed]",
      "text/plain": [
       "<Figure size 432x288 with 1 Axes>"
      ]
     },
     "metadata": {
      "needs_background": "light"
     },
     "output_type": "display_data"
    }
   ],
   "source": [
    "df['age'].hist()"
   ]
  },
  {
   "cell_type": "code",
   "execution_count": 31,
   "metadata": {},
   "outputs": [
    {
     "data": {
      "text/plain": [
       "<matplotlib.axes._subplots.AxesSubplot at 0x11b64dc88>"
      ]
     },
     "execution_count": 31,
     "metadata": {},
     "output_type": "execute_result"
    },
    {
     "data": {
      "image/png": "[encoded data removed]",
      "text/plain": [
       "<Figure size 432x288 with 1 Axes>"
      ]
     },
     "metadata": {
      "needs_background": "light"
     },
     "output_type": "display_data"
    }
   ],
   "source": [
    "df['rm'].hist()"
   ]
  },
  {
   "cell_type": "code",
   "execution_count": 35,
   "metadata": {},
   "outputs": [
    {
     "data": {
      "text/plain": [
       "count    333.000000\n",
       "mean       6.265619\n",
       "std        0.703952\n",
       "min        3.561000\n",
       "25%        5.884000\n",
       "50%        6.202000\n",
       "75%        6.595000\n",
       "max        8.725000\n",
       "Name: rm, dtype: float64"
      ]
     },
     "execution_count": 35,
     "metadata": {},
     "output_type": "execute_result"
    }
   ],
   "source": [
    "df['rm'].describe()"
   ]
  },
  {
   "cell_type": "code",
   "execution_count": 36,
   "metadata": {},
   "outputs": [
    {
     "data": {
      "text/plain": [
       "count    333.000000\n",
       "mean       9.633634\n",
       "std        8.742174\n",
       "min        1.000000\n",
       "25%        4.000000\n",
       "50%        5.000000\n",
       "75%       24.000000\n",
       "max       24.000000\n",
       "Name: rad, dtype: float64"
      ]
     },
     "execution_count": 36,
     "metadata": {},
     "output_type": "execute_result"
    }
   ],
   "source": [
    "df['rad'].describe()"
   ]
  },
  {
   "cell_type": "code",
   "execution_count": 37,
   "metadata": {},
   "outputs": [
    {
     "data": {
      "text/plain": [
       "1"
      ]
     },
     "execution_count": 37,
     "metadata": {},
     "output_type": "execute_result"
    }
   ],
   "source": [
    "df['rad'].min()"
   ]
  },
  {
   "cell_type": "code",
   "execution_count": 38,
   "metadata": {},
   "outputs": [
    {
     "data": {
      "text/plain": [
       "24"
      ]
     },
     "execution_count": 38,
     "metadata": {},
     "output_type": "execute_result"
    }
   ],
   "source": [
    "df['rad'].max()"
   ]
  },
  {
   "cell_type": "code",
   "execution_count": 39,
   "metadata": {},
   "outputs": [
    {
     "data": {
      "text/html": [
       "<div>\n",
       "<style scoped>\n",
       "    .dataframe tbody tr th:only-of-type {\n",
       "        vertical-align: middle;\n",
       "    }\n",
       "\n",
       "    .dataframe tbody tr th {\n",
       "        vertical-align: top;\n",
       "    }\n",
       "\n",
       "    .dataframe thead th {\n",
       "        text-align: right;\n",
       "    }\n",
       "</style>\n",
       "<table border=\"1\" class=\"dataframe\">\n",
       "  <thead>\n",
       "    <tr style=\"text-align: right;\">\n",
       "      <th></th>\n",
       "      <th>ID</th>\n",
       "      <th>crim</th>\n",
       "      <th>zn</th>\n",
       "      <th>indus</th>\n",
       "      <th>chas</th>\n",
       "      <th>nox</th>\n",
       "      <th>rm</th>\n",
       "      <th>age</th>\n",
       "      <th>dis</th>\n",
       "      <th>rad</th>\n",
       "      <th>tax</th>\n",
       "      <th>ptratio</th>\n",
       "      <th>b</th>\n",
       "      <th>lstat</th>\n",
       "      <th>medv</th>\n",
       "    </tr>\n",
       "  </thead>\n",
       "  <tbody>\n",
       "    <tr>\n",
       "      <td>0</td>\n",
       "      <td>1</td>\n",
       "      <td>0.00632</td>\n",
       "      <td>18.0</td>\n",
       "      <td>2.31</td>\n",
       "      <td>0</td>\n",
       "      <td>0.538</td>\n",
       "      <td>6.575</td>\n",
       "      <td>65.2</td>\n",
       "      <td>4.0900</td>\n",
       "      <td>1</td>\n",
       "      <td>296</td>\n",
       "      <td>15.3</td>\n",
       "      <td>396.90</td>\n",
       "      <td>4.98</td>\n",
       "      <td>24.0</td>\n",
       "    </tr>\n",
       "    <tr>\n",
       "      <td>1</td>\n",
       "      <td>2</td>\n",
       "      <td>0.02731</td>\n",
       "      <td>0.0</td>\n",
       "      <td>7.07</td>\n",
       "      <td>0</td>\n",
       "      <td>0.469</td>\n",
       "      <td>6.421</td>\n",
       "      <td>78.9</td>\n",
       "      <td>4.9671</td>\n",
       "      <td>2</td>\n",
       "      <td>242</td>\n",
       "      <td>17.8</td>\n",
       "      <td>396.90</td>\n",
       "      <td>9.14</td>\n",
       "      <td>21.6</td>\n",
       "    </tr>\n",
       "    <tr>\n",
       "      <td>2</td>\n",
       "      <td>4</td>\n",
       "      <td>0.03237</td>\n",
       "      <td>0.0</td>\n",
       "      <td>2.18</td>\n",
       "      <td>0</td>\n",
       "      <td>0.458</td>\n",
       "      <td>6.998</td>\n",
       "      <td>45.8</td>\n",
       "      <td>6.0622</td>\n",
       "      <td>3</td>\n",
       "      <td>222</td>\n",
       "      <td>18.7</td>\n",
       "      <td>394.63</td>\n",
       "      <td>2.94</td>\n",
       "      <td>33.4</td>\n",
       "    </tr>\n",
       "    <tr>\n",
       "      <td>3</td>\n",
       "      <td>5</td>\n",
       "      <td>0.06905</td>\n",
       "      <td>0.0</td>\n",
       "      <td>2.18</td>\n",
       "      <td>0</td>\n",
       "      <td>0.458</td>\n",
       "      <td>7.147</td>\n",
       "      <td>54.2</td>\n",
       "      <td>6.0622</td>\n",
       "      <td>3</td>\n",
       "      <td>222</td>\n",
       "      <td>18.7</td>\n",
       "      <td>396.90</td>\n",
       "      <td>5.33</td>\n",
       "      <td>36.2</td>\n",
       "    </tr>\n",
       "    <tr>\n",
       "      <td>4</td>\n",
       "      <td>7</td>\n",
       "      <td>0.08829</td>\n",
       "      <td>12.5</td>\n",
       "      <td>7.87</td>\n",
       "      <td>0</td>\n",
       "      <td>0.524</td>\n",
       "      <td>6.012</td>\n",
       "      <td>66.6</td>\n",
       "      <td>5.5605</td>\n",
       "      <td>5</td>\n",
       "      <td>311</td>\n",
       "      <td>15.2</td>\n",
       "      <td>395.60</td>\n",
       "      <td>12.43</td>\n",
       "      <td>22.9</td>\n",
       "    </tr>\n",
       "  </tbody>\n",
       "</table>\n",
       "</div>"
      ],
      "text/plain": [
       "   ID     crim    zn  indus  chas    nox     rm   age     dis  rad  tax  \\\n",
       "0   1  0.00632  18.0   2.31     0  0.538  6.575  65.2  4.0900    1  296   \n",
       "1   2  0.02731   0.0   7.07     0  0.469  6.421  78.9  4.9671    2  242   \n",
       "2   4  0.03237   0.0   2.18     0  0.458  6.998  45.8  6.0622    3  222   \n",
       "3   5  0.06905   0.0   2.18     0  0.458  7.147  54.2  6.0622    3  222   \n",
       "4   7  0.08829  12.5   7.87     0  0.524  6.012  66.6  5.5605    5  311   \n",
       "\n",
       "   ptratio       b  lstat  medv  \n",
       "0     15.3  396.90   4.98  24.0  \n",
       "1     17.8  396.90   9.14  21.6  \n",
       "2     18.7  394.63   2.94  33.4  \n",
       "3     18.7  396.90   5.33  36.2  \n",
       "4     15.2  395.60  12.43  22.9  "
      ]
     },
     "execution_count": 39,
     "metadata": {},
     "output_type": "execute_result"
    }
   ],
   "source": [
    "low_rad = df[df['rad'] <= 12]\n",
    "high_rad = df[df['rad'] > 12]\n",
    "\n",
    "low_rad.head()"
   ]
  },
  {
   "cell_type": "code",
   "execution_count": 40,
   "metadata": {},
   "outputs": [
    {
     "data": {
      "text/plain": [
       "array([[<matplotlib.axes._subplots.AxesSubplot object at 0x11b832470>,\n",
       "        <matplotlib.axes._subplots.AxesSubplot object at 0x11b7b0198>,\n",
       "        <matplotlib.axes._subplots.AxesSubplot object at 0x11b8b2748>,\n",
       "        <matplotlib.axes._subplots.AxesSubplot object at 0x11b8e0cf8>],\n",
       "       [<matplotlib.axes._subplots.AxesSubplot object at 0x11b91b2e8>,\n",
       "        <matplotlib.axes._subplots.AxesSubplot object at 0x11b94a898>,\n",
       "        <matplotlib.axes._subplots.AxesSubplot object at 0x11b96cef0>,\n",
       "        <matplotlib.axes._subplots.AxesSubplot object at 0x11b999518>],\n",
       "       [<matplotlib.axes._subplots.AxesSubplot object at 0x11b999550>,\n",
       "        <matplotlib.axes._subplots.AxesSubplot object at 0x11ba09080>,\n",
       "        <matplotlib.axes._subplots.AxesSubplot object at 0x11ba37630>,\n",
       "        <matplotlib.axes._subplots.AxesSubplot object at 0x11ba69be0>],\n",
       "       [<matplotlib.axes._subplots.AxesSubplot object at 0x11baa61d0>,\n",
       "        <matplotlib.axes._subplots.AxesSubplot object at 0x11bad5780>,\n",
       "        <matplotlib.axes._subplots.AxesSubplot object at 0x11bb0bd30>,\n",
       "        <matplotlib.axes._subplots.AxesSubplot object at 0x11bb47320>]],\n",
       "      dtype=object)"
      ]
     },
     "execution_count": 40,
     "metadata": {},
     "output_type": "execute_result"
    },
    {
     "data": {
      "image/png": "[encoded data removed]",
      "text/plain": [
       "<Figure size 432x288 with 16 Axes>"
      ]
     },
     "metadata": {
      "needs_background": "light"
     },
     "output_type": "display_data"
    }
   ],
   "source": [
    "low_rad.hist()"
   ]
  },
  {
   "cell_type": "code",
   "execution_count": 43,
   "metadata": {},
   "outputs": [],
   "source": [
    "tracts_charles = df[df['chas'] == 1]\n",
    "away_from_charles = df[df['chas'] == 0]"
   ]
  },
  {
   "cell_type": "code",
   "execution_count": 48,
   "metadata": {},
   "outputs": [
    {
     "name": "stdout",
     "output_type": "stream",
     "text": [
      "Median Nitrogen Oxide Conc., Close to Charles: 0.5285\n",
      "Median Nitrogen Oxide Conc., Far from Charles: 0.5379999999999999\n",
      "Median Crime per Capita (Near Charles): 0.5720700000000001\n",
      "Median Crime per Capita (Far from Charles): 0.24522\n"
     ]
    }
   ],
   "source": [
    "#evaluate differences in median nitrogen oxide concentrations near and far from Charles\n",
    "print(\"Median Nitrogen Oxide Conc., Close to Charles: {}\".format(tracts_charles['nox'].median()))\n",
    "print(\"Median Nitrogen Oxide Conc., Far from Charles: {}\".format(away_from_charles['nox'].median()))\n",
    "\n",
    "#evaluate differences in crime\n",
    "print(\"Median Crime per Capita (Near Charles): {}\".format(tracts_charles['crim'].median()))\n",
    "print(\"Median Crime per Capita (Far from Charles): {}\".format(away_from_charles['crim'].median()))\n"
   ]
  },
  {
   "cell_type": "code",
   "execution_count": 78,
   "metadata": {},
   "outputs": [
    {
     "data": {
      "text/plain": [
       "<matplotlib.axes._subplots.AxesSubplot at 0x11d1cac88>"
      ]
     },
     "execution_count": 78,
     "metadata": {},
     "output_type": "execute_result"
    },
    {
     "data": {
      "image/png": "[encoded data removed]",
      "text/plain": [
       "<Figure size 432x288 with 1 Axes>"
      ]
     },
     "metadata": {
      "needs_background": "light"
     },
     "output_type": "display_data"
    }
   ],
   "source": [
    "tracts_charles['nox'].plot(kind='hist')"
   ]
  },
  {
   "cell_type": "code",
   "execution_count": 72,
   "metadata": {},
   "outputs": [
    {
     "data": {
      "text/plain": [
       "<matplotlib.axes._subplots.AxesSubplot at 0x11cd0a278>"
      ]
     },
     "execution_count": 72,
     "metadata": {},
     "output_type": "execute_result"
    },
    {
     "data": {
      "image/png": "[encoded data removed]",
      "text/plain": [
       "<Figure size 432x288 with 1 Axes>"
      ]
     },
     "metadata": {
      "needs_background": "light"
     },
     "output_type": "display_data"
    }
   ],
   "source": [
    "away_from_charles['nox'].hist()"
   ]
  },
  {
   "cell_type": "code",
   "execution_count": 91,
   "metadata": {},
   "outputs": [
    {
     "data": {
      "text/plain": [
       "array([<matplotlib.axes._subplots.AxesSubplot object at 0x11c357ba8>],\n",
       "      dtype=object)"
      ]
     },
     "execution_count": 91,
     "metadata": {},
     "output_type": "execute_result"
    },
    {
     "data": {
      "text/plain": [
       "<Figure size 648x216 with 0 Axes>"
      ]
     },
     "metadata": {},
     "output_type": "display_data"
    },
    {
     "data": {
      "image/png": "[encoded data removed]",
      "text/plain": [
       "<Figure size 432x288 with 2 Axes>"
      ]
     },
     "metadata": {
      "needs_background": "light"
     },
     "output_type": "display_data"
    }
   ],
   "source": [
    "plt.figure(figsize=(9,3))\n",
    "fig, axes = plt.subplots(1,2, sharex=True, sharey=True)\n",
    "tracts_charles.hist('crim', ax=axes[0])\n",
    "away_from_charles.hist('crim', ax=axes[1])"
   ]
  },
  {
   "cell_type": "code",
   "execution_count": 95,
   "metadata": {},
   "outputs": [
    {
     "data": {
      "text/plain": [
       "array([<matplotlib.axes._subplots.AxesSubplot object at 0x11d7514a8>],\n",
       "      dtype=object)"
      ]
     },
     "execution_count": 95,
     "metadata": {},
     "output_type": "execute_result"
    },
    {
     "data": {
      "text/plain": [
       "<Figure size 1296x216 with 0 Axes>"
      ]
     },
     "metadata": {},
     "output_type": "display_data"
    },
    {
     "data": {
      "image/png": "[encoded data removed]",
      "text/plain": [
       "<Figure size 432x288 with 2 Axes>"
      ]
     },
     "metadata": {
      "needs_background": "light"
     },
     "output_type": "display_data"
    }
   ],
   "source": [
    "plt.figure(figsize=(18,3))\n",
    "fig, axes = plt.subplots(1,2)\n",
    "tracts_charles.hist('nox', ax=axes[0])\n",
    "away_from_charles.hist('nox', ax=axes[1])"
   ]
  },
  {
   "cell_type": "code",
   "execution_count": 96,
   "metadata": {},
   "outputs": [
    {
     "data": {
      "text/plain": [
       "count    333.000000\n",
       "mean     409.279279\n",
       "std      170.841988\n",
       "min      188.000000\n",
       "25%      279.000000\n",
       "50%      330.000000\n",
       "75%      666.000000\n",
       "max      711.000000\n",
       "Name: tax, dtype: float64"
      ]
     },
     "execution_count": 96,
     "metadata": {},
     "output_type": "execute_result"
    }
   ],
   "source": [
    "df['tax'].describe()"
   ]
  },
  {
   "cell_type": "code",
   "execution_count": 98,
   "metadata": {},
   "outputs": [
    {
     "data": {
      "text/html": [
       "<div>\n",
       "<style scoped>\n",
       "    .dataframe tbody tr th:only-of-type {\n",
       "        vertical-align: middle;\n",
       "    }\n",
       "\n",
       "    .dataframe tbody tr th {\n",
       "        vertical-align: top;\n",
       "    }\n",
       "\n",
       "    .dataframe thead th {\n",
       "        text-align: right;\n",
       "    }\n",
       "</style>\n",
       "<table border=\"1\" class=\"dataframe\">\n",
       "  <thead>\n",
       "    <tr style=\"text-align: right;\">\n",
       "      <th></th>\n",
       "      <th>ID</th>\n",
       "      <th>crim</th>\n",
       "      <th>zn</th>\n",
       "      <th>indus</th>\n",
       "      <th>chas</th>\n",
       "      <th>nox</th>\n",
       "      <th>rm</th>\n",
       "      <th>age</th>\n",
       "      <th>dis</th>\n",
       "      <th>rad</th>\n",
       "      <th>tax</th>\n",
       "      <th>ptratio</th>\n",
       "      <th>b</th>\n",
       "      <th>lstat</th>\n",
       "      <th>medv</th>\n",
       "    </tr>\n",
       "  </thead>\n",
       "  <tbody>\n",
       "    <tr>\n",
       "      <td>0</td>\n",
       "      <td>1</td>\n",
       "      <td>0.00632</td>\n",
       "      <td>18.0</td>\n",
       "      <td>2.31</td>\n",
       "      <td>0</td>\n",
       "      <td>0.538</td>\n",
       "      <td>6.575</td>\n",
       "      <td>65.2</td>\n",
       "      <td>4.0900</td>\n",
       "      <td>1</td>\n",
       "      <td>296</td>\n",
       "      <td>15.3</td>\n",
       "      <td>396.90</td>\n",
       "      <td>4.98</td>\n",
       "      <td>24.0</td>\n",
       "    </tr>\n",
       "    <tr>\n",
       "      <td>1</td>\n",
       "      <td>2</td>\n",
       "      <td>0.02731</td>\n",
       "      <td>0.0</td>\n",
       "      <td>7.07</td>\n",
       "      <td>0</td>\n",
       "      <td>0.469</td>\n",
       "      <td>6.421</td>\n",
       "      <td>78.9</td>\n",
       "      <td>4.9671</td>\n",
       "      <td>2</td>\n",
       "      <td>242</td>\n",
       "      <td>17.8</td>\n",
       "      <td>396.90</td>\n",
       "      <td>9.14</td>\n",
       "      <td>21.6</td>\n",
       "    </tr>\n",
       "    <tr>\n",
       "      <td>2</td>\n",
       "      <td>4</td>\n",
       "      <td>0.03237</td>\n",
       "      <td>0.0</td>\n",
       "      <td>2.18</td>\n",
       "      <td>0</td>\n",
       "      <td>0.458</td>\n",
       "      <td>6.998</td>\n",
       "      <td>45.8</td>\n",
       "      <td>6.0622</td>\n",
       "      <td>3</td>\n",
       "      <td>222</td>\n",
       "      <td>18.7</td>\n",
       "      <td>394.63</td>\n",
       "      <td>2.94</td>\n",
       "      <td>33.4</td>\n",
       "    </tr>\n",
       "    <tr>\n",
       "      <td>3</td>\n",
       "      <td>5</td>\n",
       "      <td>0.06905</td>\n",
       "      <td>0.0</td>\n",
       "      <td>2.18</td>\n",
       "      <td>0</td>\n",
       "      <td>0.458</td>\n",
       "      <td>7.147</td>\n",
       "      <td>54.2</td>\n",
       "      <td>6.0622</td>\n",
       "      <td>3</td>\n",
       "      <td>222</td>\n",
       "      <td>18.7</td>\n",
       "      <td>396.90</td>\n",
       "      <td>5.33</td>\n",
       "      <td>36.2</td>\n",
       "    </tr>\n",
       "    <tr>\n",
       "      <td>4</td>\n",
       "      <td>7</td>\n",
       "      <td>0.08829</td>\n",
       "      <td>12.5</td>\n",
       "      <td>7.87</td>\n",
       "      <td>0</td>\n",
       "      <td>0.524</td>\n",
       "      <td>6.012</td>\n",
       "      <td>66.6</td>\n",
       "      <td>5.5605</td>\n",
       "      <td>5</td>\n",
       "      <td>311</td>\n",
       "      <td>15.2</td>\n",
       "      <td>395.60</td>\n",
       "      <td>12.43</td>\n",
       "      <td>22.9</td>\n",
       "    </tr>\n",
       "  </tbody>\n",
       "</table>\n",
       "</div>"
      ],
      "text/plain": [
       "   ID     crim    zn  indus  chas    nox     rm   age     dis  rad  tax  \\\n",
       "0   1  0.00632  18.0   2.31     0  0.538  6.575  65.2  4.0900    1  296   \n",
       "1   2  0.02731   0.0   7.07     0  0.469  6.421  78.9  4.9671    2  242   \n",
       "2   4  0.03237   0.0   2.18     0  0.458  6.998  45.8  6.0622    3  222   \n",
       "3   5  0.06905   0.0   2.18     0  0.458  7.147  54.2  6.0622    3  222   \n",
       "4   7  0.08829  12.5   7.87     0  0.524  6.012  66.6  5.5605    5  311   \n",
       "\n",
       "   ptratio       b  lstat  medv  \n",
       "0     15.3  396.90   4.98  24.0  \n",
       "1     17.8  396.90   9.14  21.6  \n",
       "2     18.7  394.63   2.94  33.4  \n",
       "3     18.7  396.90   5.33  36.2  \n",
       "4     15.2  395.60  12.43  22.9  "
      ]
     },
     "execution_count": 98,
     "metadata": {},
     "output_type": "execute_result"
    }
   ],
   "source": [
    "#analyzing tax rate on crime\n",
    "low_tax = df[df['tax'] <= 330]\n",
    "low_tax.head()"
   ]
  },
  {
   "cell_type": "code",
   "execution_count": 99,
   "metadata": {},
   "outputs": [],
   "source": [
    "high_tax = df[df['tax'] > 330]"
   ]
  },
  {
   "cell_type": "code",
   "execution_count": 103,
   "metadata": {},
   "outputs": [
    {
     "data": {
      "text/plain": [
       "Text(0.5, 1.0, 'Crime vs. Tax')"
      ]
     },
     "execution_count": 103,
     "metadata": {},
     "output_type": "execute_result"
    },
    {
     "data": {
      "image/png": "[encoded data removed]",
      "text/plain": [
       "<Figure size 648x216 with 1 Axes>"
      ]
     },
     "metadata": {
      "needs_background": "light"
     },
     "output_type": "display_data"
    }
   ],
   "source": [
    "#scatter of total tax rate vs. crime\n",
    "tax_values = df['tax']\n",
    "crime_values = df['crim']\n",
    "plt.figure(figsize=(9,3))\n",
    "plt.scatter(tax_values, crime_values)\n",
    "plt.xlabel(\"Tax\")\n",
    "plt.ylabel(\"Crime\")\n",
    "plt.title(\"Crime vs. Tax\")"
   ]
  },
  {
   "cell_type": "code",
   "execution_count": 110,
   "metadata": {},
   "outputs": [
    {
     "data": {
      "text/plain": [
       "<matplotlib.axes._subplots.AxesSubplot at 0x11ec58588>"
      ]
     },
     "execution_count": 110,
     "metadata": {},
     "output_type": "execute_result"
    },
    {
     "data": {
      "image/png": "[encoded data removed]",
      "text/plain": [
       "<Figure size 1296x216 with 3 Axes>"
      ]
     },
     "metadata": {
      "needs_background": "light"
     },
     "output_type": "display_data"
    }
   ],
   "source": [
    "low_tax_values = low_tax['tax']\n",
    "low_tax_crime = low_tax['crim']\n",
    "high_tax_values = high_tax['tax']\n",
    "high_tax_crime = high_tax['crim']\n",
    "\n",
    "\n",
    "fig, axes = plt.subplots(1, 3, figsize=(18,3))\n",
    "df.plot.scatter('tax', 'crim', ax=axes[0])\n",
    "low_tax.plot.scatter('tax', 'crim', ax=axes[1])\n",
    "high_tax.plot.scatter('tax', 'crim', ax=axes[2])"
   ]
  },
  {
   "cell_type": "code",
   "execution_count": 111,
   "metadata": {},
   "outputs": [
    {
     "data": {
      "text/plain": [
       "count    333.000000\n",
       "mean       6.265619\n",
       "std        0.703952\n",
       "min        3.561000\n",
       "25%        5.884000\n",
       "50%        6.202000\n",
       "75%        6.595000\n",
       "max        8.725000\n",
       "Name: rm, dtype: float64"
      ]
     },
     "execution_count": 111,
     "metadata": {},
     "output_type": "execute_result"
    }
   ],
   "source": [
    "df['rm'].describe()"
   ]
  },
  {
   "cell_type": "code",
   "execution_count": 113,
   "metadata": {},
   "outputs": [
    {
     "data": {
      "text/plain": [
       "<matplotlib.axes._subplots.AxesSubplot at 0x11f163780>"
      ]
     },
     "execution_count": 113,
     "metadata": {},
     "output_type": "execute_result"
    },
    {
     "data": {
      "image/png": "[encoded data removed]",
      "text/plain": [
       "<Figure size 432x288 with 1 Axes>"
      ]
     },
     "metadata": {
      "needs_background": "light"
     },
     "output_type": "display_data"
    }
   ],
   "source": [
    "#split rooms - - compare tax rates at different number of rooms\n",
    "df_room_1 = df[df['rm'] < 6.2]\n",
    "df_room_2 = df[df['rm'] >= 6.2]\n",
    "df_room_1['rm'].hist()"
   ]
  },
  {
   "cell_type": "code",
   "execution_count": 114,
   "metadata": {},
   "outputs": [
    {
     "data": {
      "text/plain": [
       "<matplotlib.axes._subplots.AxesSubplot at 0x11f15ea90>"
      ]
     },
     "execution_count": 114,
     "metadata": {},
     "output_type": "execute_result"
    },
    {
     "data": {
      "image/png": "[encoded data removed]",
      "text/plain": [
       "<Figure size 432x288 with 1 Axes>"
      ]
     },
     "metadata": {
      "needs_background": "light"
     },
     "output_type": "display_data"
    }
   ],
   "source": [
    "df_room_2['rm'].hist()"
   ]
  },
  {
   "cell_type": "code",
   "execution_count": 117,
   "metadata": {},
   "outputs": [
    {
     "data": {
      "text/plain": [
       "count    333.000000\n",
       "mean      68.226426\n",
       "std       28.133344\n",
       "min        6.000000\n",
       "25%       45.400000\n",
       "50%       76.700000\n",
       "75%       93.800000\n",
       "max      100.000000\n",
       "Name: age, dtype: float64"
      ]
     },
     "execution_count": 117,
     "metadata": {},
     "output_type": "execute_result"
    }
   ],
   "source": [
    "df['age'].describe()"
   ]
  },
  {
   "cell_type": "code",
   "execution_count": 126,
   "metadata": {},
   "outputs": [],
   "source": [
    "#compare first quartile aged houses to third quartile aged houses\n",
    "first_age_quartile = df.loc[df['age'] < 45.4]\n",
    "third_age_quartile = df.loc[df['age'] > 93.8]\n",
    "\n"
   ]
  },
  {
   "cell_type": "code",
   "execution_count": 127,
   "metadata": {},
   "outputs": [
    {
     "name": "stdout",
     "output_type": "stream",
     "text": [
      "0.07875\n",
      "5.44114\n"
     ]
    }
   ],
   "source": [
    "print(first_age_quartile['crim'].median())\n",
    "print(third_age_quartile['crim'].median())"
   ]
  },
  {
   "cell_type": "code",
   "execution_count": 139,
   "metadata": {},
   "outputs": [
    {
     "data": {
      "image/png": "[encoded data removed]",
      "text/plain": [
       "<Figure size 432x288 with 1 Axes>"
      ]
     },
     "metadata": {
      "needs_background": "light"
     },
     "output_type": "display_data"
    }
   ],
   "source": [
    "import numpy as np\n",
    "labels = ['First Quartile', 'Third Quartile']\n",
    "y = [first_age_quartile['crim'].median(), third_age_quartile['crim'].median()]\n",
    "x = np.arange(2)\n",
    "\n",
    "plt.bar(x, y)\n",
    "plt.xticks(x, labels)\n",
    "plt.title(\"Crime Differences between Housing Ages\")\n",
    "plt.xlabel('Housing Age')\n",
    "plt.ylabel(\"Crime per Capita\")\n",
    "plt.show()\n"
   ]
  },
  {
   "cell_type": "code",
   "execution_count": 147,
   "metadata": {},
   "outputs": [
    {
     "data": {
      "text/plain": [
       "<matplotlib.axes._subplots.AxesSubplot at 0x11f75a390>"
      ]
     },
     "execution_count": 147,
     "metadata": {},
     "output_type": "execute_result"
    },
    {
     "data": {
      "image/png": "[encoded data removed]",
      "text/plain": [
       "<Figure size 1440x360 with 2 Axes>"
      ]
     },
     "metadata": {
      "needs_background": "light"
     },
     "output_type": "display_data"
    }
   ],
   "source": [
    "#first quartile housing age against crime\n",
    "x1 = first_age_quartile['age']\n",
    "y1 = first_age_quartile['crim']\n",
    "x2 = third_age_quartile['age']\n",
    "y2 = third_age_quartile['crim']\n",
    "\n",
    "fig, axes = plt.subplots(1,2, figsize = (20, 5), sharey=True)\n",
    "first_age_quartile.plot.scatter('age', 'crim', ax=axes[0])\n",
    "third_age_quartile.plot.scatter('age', 'crim', ax=axes[1])"
   ]
  },
  {
   "cell_type": "code",
   "execution_count": null,
   "metadata": {},
   "outputs": [],
   "source": []
  },
  {
   "cell_type": "code",
   "execution_count": null,
   "metadata": {},
   "outputs": [],
   "source": []
  },
  {
   "cell_type": "code",
   "execution_count": null,
   "metadata": {},
   "outputs": [],
   "source": []
  }
 ],
 "metadata": {
  "kernelspec": {
   "display_name": "Python 3",
   "language": "python",
   "name": "python3"
  },
  "language_info": {
   "codemirror_mode": {
    "name": "ipython",
    "version": 3
   },
   "file_extension": ".py",
   "mimetype": "text/x-python",
   "name": "python",
   "nbconvert_exporter": "python",
   "pygments_lexer": "ipython3",
   "version": "3.6.9"
  }
 },
 "nbformat": 4,
 "nbformat_minor": 2
}
